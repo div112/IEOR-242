{
 "cells": [
  {
   "cell_type": "code",
   "execution_count": 1,
   "metadata": {},
   "outputs": [
    {
     "name": "stderr",
     "output_type": "stream",
     "text": [
      "/Users/divsaksena/opt/anaconda3/lib/python3.8/site-packages/statsmodels/tsa/base/tsa_model.py:7: FutureWarning: pandas.Int64Index is deprecated and will be removed from pandas in a future version. Use pandas.Index with the appropriate dtype instead.\n",
      "  from pandas import (to_datetime, Int64Index, DatetimeIndex, Period,\n",
      "/Users/divsaksena/opt/anaconda3/lib/python3.8/site-packages/statsmodels/tsa/base/tsa_model.py:7: FutureWarning: pandas.Float64Index is deprecated and will be removed from pandas in a future version. Use pandas.Index with the appropriate dtype instead.\n",
      "  from pandas import (to_datetime, Int64Index, DatetimeIndex, Period,\n"
     ]
    }
   ],
   "source": [
    "import numpy as np\n",
    "import pandas as pd \n",
    "import seaborn as sns\n",
    "import statsmodels.api as sm\n",
    "import statsmodels.formula.api as smf\n",
    "from statsmodels.stats.outliers_influence import variance_inflation_factor"
   ]
  },
  {
   "cell_type": "code",
   "execution_count": 2,
   "metadata": {},
   "outputs": [
    {
     "name": "stdout",
     "output_type": "stream",
     "text": [
      "<class 'pandas.core.frame.DataFrame'>\n",
      "RangeIndex: 174 entries, 0 to 173\n",
      "Data columns (total 9 columns):\n",
      " #   Column         Non-Null Count  Dtype  \n",
      "---  ------         --------------  -----  \n",
      " 0   MonthNumeric   174 non-null    int64  \n",
      " 1   MonthFactor    174 non-null    object \n",
      " 2   Year           174 non-null    int64  \n",
      " 3   CamrySales     174 non-null    int64  \n",
      " 4   Unemployment   174 non-null    float64\n",
      " 5   CamryQueries   174 non-null    int64  \n",
      " 6   CPIAll         174 non-null    float64\n",
      " 7   CPIEnergy      174 non-null    float64\n",
      " 8   MilesTraveled  174 non-null    int64  \n",
      "dtypes: float64(3), int64(5), object(1)\n",
      "memory usage: 12.4+ KB\n"
     ]
    }
   ],
   "source": [
    "data = pd.read_csv(\"Camry_242_Spring2023.csv\")\n",
    "data.info()"
   ]
  },
  {
   "cell_type": "code",
   "execution_count": 3,
   "metadata": {},
   "outputs": [
    {
     "data": {
      "text/html": [
       "<div>\n",
       "<style scoped>\n",
       "    .dataframe tbody tr th:only-of-type {\n",
       "        vertical-align: middle;\n",
       "    }\n",
       "\n",
       "    .dataframe tbody tr th {\n",
       "        vertical-align: top;\n",
       "    }\n",
       "\n",
       "    .dataframe thead th {\n",
       "        text-align: right;\n",
       "    }\n",
       "</style>\n",
       "<table border=\"1\" class=\"dataframe\">\n",
       "  <thead>\n",
       "    <tr style=\"text-align: right;\">\n",
       "      <th></th>\n",
       "      <th>MonthNumeric</th>\n",
       "      <th>MonthFactor</th>\n",
       "      <th>Year</th>\n",
       "      <th>CamrySales</th>\n",
       "      <th>Unemployment</th>\n",
       "      <th>CamryQueries</th>\n",
       "      <th>CPIAll</th>\n",
       "      <th>CPIEnergy</th>\n",
       "      <th>MilesTraveled</th>\n",
       "    </tr>\n",
       "  </thead>\n",
       "  <tbody>\n",
       "    <tr>\n",
       "      <th>0</th>\n",
       "      <td>1</td>\n",
       "      <td>January</td>\n",
       "      <td>2008</td>\n",
       "      <td>31601</td>\n",
       "      <td>5.0</td>\n",
       "      <td>40</td>\n",
       "      <td>212.174</td>\n",
       "      <td>226.775</td>\n",
       "      <td>253376</td>\n",
       "    </tr>\n",
       "    <tr>\n",
       "      <th>1</th>\n",
       "      <td>2</td>\n",
       "      <td>February</td>\n",
       "      <td>2008</td>\n",
       "      <td>34914</td>\n",
       "      <td>4.9</td>\n",
       "      <td>41</td>\n",
       "      <td>212.687</td>\n",
       "      <td>229.731</td>\n",
       "      <td>250551</td>\n",
       "    </tr>\n",
       "    <tr>\n",
       "      <th>2</th>\n",
       "      <td>3</td>\n",
       "      <td>March</td>\n",
       "      <td>2008</td>\n",
       "      <td>40487</td>\n",
       "      <td>5.1</td>\n",
       "      <td>51</td>\n",
       "      <td>213.448</td>\n",
       "      <td>233.349</td>\n",
       "      <td>248981</td>\n",
       "    </tr>\n",
       "    <tr>\n",
       "      <th>3</th>\n",
       "      <td>4</td>\n",
       "      <td>April</td>\n",
       "      <td>2008</td>\n",
       "      <td>40016</td>\n",
       "      <td>5.0</td>\n",
       "      <td>47</td>\n",
       "      <td>213.942</td>\n",
       "      <td>234.778</td>\n",
       "      <td>249101</td>\n",
       "    </tr>\n",
       "    <tr>\n",
       "      <th>4</th>\n",
       "      <td>5</td>\n",
       "      <td>May</td>\n",
       "      <td>2008</td>\n",
       "      <td>51291</td>\n",
       "      <td>5.4</td>\n",
       "      <td>54</td>\n",
       "      <td>215.208</td>\n",
       "      <td>243.924</td>\n",
       "      <td>248415</td>\n",
       "    </tr>\n",
       "  </tbody>\n",
       "</table>\n",
       "</div>"
      ],
      "text/plain": [
       "   MonthNumeric MonthFactor  Year  CamrySales  Unemployment  CamryQueries  \\\n",
       "0             1     January  2008       31601           5.0            40   \n",
       "1             2    February  2008       34914           4.9            41   \n",
       "2             3       March  2008       40487           5.1            51   \n",
       "3             4       April  2008       40016           5.0            47   \n",
       "4             5         May  2008       51291           5.4            54   \n",
       "\n",
       "    CPIAll  CPIEnergy  MilesTraveled  \n",
       "0  212.174    226.775         253376  \n",
       "1  212.687    229.731         250551  \n",
       "2  213.448    233.349         248981  \n",
       "3  213.942    234.778         249101  \n",
       "4  215.208    243.924         248415  "
      ]
     },
     "execution_count": 3,
     "metadata": {},
     "output_type": "execute_result"
    }
   ],
   "source": [
    "data.head()"
   ]
  },
  {
   "cell_type": "code",
   "execution_count": 4,
   "metadata": {},
   "outputs": [
    {
     "data": {
      "text/plain": [
       "<matplotlib.axes._subplots.AxesSubplot at 0x7fe5353fa070>"
      ]
     },
     "execution_count": 4,
     "metadata": {},
     "output_type": "execute_result"
    },
    {
     "data": {
      "image/png": "[encoded data removed]",
      "text/plain": [
       "<Figure size 432x288 with 1 Axes>"
      ]
     },
     "metadata": {
      "needs_background": "light"
     },
     "output_type": "display_data"
    }
   ],
   "source": [
    "data.plot(y='CamrySales')"
   ]
  },
  {
   "cell_type": "code",
   "execution_count": 5,
   "metadata": {},
   "outputs": [
    {
     "name": "stderr",
     "output_type": "stream",
     "text": [
      "<ipython-input-5-cea6054161da>:1: FutureWarning: The default value of numeric_only in DataFrame.corr is deprecated. In a future version, it will default to False. Select only valid columns or specify the value of numeric_only to silence this warning.\n",
      "  dataplot = sns.heatmap(data.corr(), annot=True)\n"
     ]
    },
    {
     "data": {
      "image/png": "[encoded data removed]",
      "text/plain": [
       "<Figure size 432x288 with 2 Axes>"
      ]
     },
     "metadata": {
      "needs_background": "light"
     },
     "output_type": "display_data"
    }
   ],
   "source": [
    "dataplot = sns.heatmap(data.corr(), annot=True)"
   ]
  },
  {
   "cell_type": "code",
   "execution_count": 25,
   "metadata": {},
   "outputs": [
    {
     "data": {
      "text/html": [
       "<div>\n",
       "<style scoped>\n",
       "    .dataframe tbody tr th:only-of-type {\n",
       "        vertical-align: middle;\n",
       "    }\n",
       "\n",
       "    .dataframe tbody tr th {\n",
       "        vertical-align: top;\n",
       "    }\n",
       "\n",
       "    .dataframe thead th {\n",
       "        text-align: right;\n",
       "    }\n",
       "</style>\n",
       "<table border=\"1\" class=\"dataframe\">\n",
       "  <thead>\n",
       "    <tr style=\"text-align: right;\">\n",
       "      <th></th>\n",
       "      <th>MonthNumeric</th>\n",
       "      <th>MonthFactor</th>\n",
       "      <th>Year</th>\n",
       "      <th>CamrySales</th>\n",
       "      <th>Unemployment</th>\n",
       "      <th>CamryQueries</th>\n",
       "      <th>CPIAll</th>\n",
       "      <th>CPIEnergy</th>\n",
       "      <th>MilesTraveled</th>\n",
       "      <th>DollarPerGallon</th>\n",
       "    </tr>\n",
       "  </thead>\n",
       "  <tbody>\n",
       "    <tr>\n",
       "      <th>156</th>\n",
       "      <td>1</td>\n",
       "      <td>January</td>\n",
       "      <td>2021</td>\n",
       "      <td>21771</td>\n",
       "      <td>6.3</td>\n",
       "      <td>76</td>\n",
       "      <td>262.200</td>\n",
       "      <td>209.328</td>\n",
       "      <td>258907</td>\n",
       "      <td>2.420</td>\n",
       "    </tr>\n",
       "    <tr>\n",
       "      <th>157</th>\n",
       "      <td>2</td>\n",
       "      <td>February</td>\n",
       "      <td>2021</td>\n",
       "      <td>23839</td>\n",
       "      <td>6.2</td>\n",
       "      <td>78</td>\n",
       "      <td>263.346</td>\n",
       "      <td>218.944</td>\n",
       "      <td>253624</td>\n",
       "      <td>2.587</td>\n",
       "    </tr>\n",
       "    <tr>\n",
       "      <th>158</th>\n",
       "      <td>3</td>\n",
       "      <td>March</td>\n",
       "      <td>2021</td>\n",
       "      <td>32541</td>\n",
       "      <td>6.0</td>\n",
       "      <td>92</td>\n",
       "      <td>265.028</td>\n",
       "      <td>231.127</td>\n",
       "      <td>267337</td>\n",
       "      <td>2.898</td>\n",
       "    </tr>\n",
       "    <tr>\n",
       "      <th>159</th>\n",
       "      <td>4</td>\n",
       "      <td>April</td>\n",
       "      <td>2021</td>\n",
       "      <td>29939</td>\n",
       "      <td>6.1</td>\n",
       "      <td>91</td>\n",
       "      <td>266.727</td>\n",
       "      <td>228.374</td>\n",
       "      <td>264108</td>\n",
       "      <td>2.948</td>\n",
       "    </tr>\n",
       "    <tr>\n",
       "      <th>160</th>\n",
       "      <td>5</td>\n",
       "      <td>May</td>\n",
       "      <td>2021</td>\n",
       "      <td>37676</td>\n",
       "      <td>5.8</td>\n",
       "      <td>91</td>\n",
       "      <td>268.599</td>\n",
       "      <td>229.874</td>\n",
       "      <td>268886</td>\n",
       "      <td>3.076</td>\n",
       "    </tr>\n",
       "    <tr>\n",
       "      <th>161</th>\n",
       "      <td>6</td>\n",
       "      <td>June</td>\n",
       "      <td>2021</td>\n",
       "      <td>31905</td>\n",
       "      <td>5.9</td>\n",
       "      <td>89</td>\n",
       "      <td>270.955</td>\n",
       "      <td>234.625</td>\n",
       "      <td>272791</td>\n",
       "      <td>3.157</td>\n",
       "    </tr>\n",
       "    <tr>\n",
       "      <th>162</th>\n",
       "      <td>7</td>\n",
       "      <td>July</td>\n",
       "      <td>2021</td>\n",
       "      <td>32959</td>\n",
       "      <td>5.4</td>\n",
       "      <td>87</td>\n",
       "      <td>272.184</td>\n",
       "      <td>238.447</td>\n",
       "      <td>274184</td>\n",
       "      <td>3.231</td>\n",
       "    </tr>\n",
       "    <tr>\n",
       "      <th>163</th>\n",
       "      <td>8</td>\n",
       "      <td>August</td>\n",
       "      <td>2021</td>\n",
       "      <td>27033</td>\n",
       "      <td>5.2</td>\n",
       "      <td>90</td>\n",
       "      <td>273.092</td>\n",
       "      <td>242.958</td>\n",
       "      <td>272447</td>\n",
       "      <td>3.255</td>\n",
       "    </tr>\n",
       "    <tr>\n",
       "      <th>164</th>\n",
       "      <td>9</td>\n",
       "      <td>Septeber</td>\n",
       "      <td>2021</td>\n",
       "      <td>19106</td>\n",
       "      <td>4.7</td>\n",
       "      <td>85</td>\n",
       "      <td>274.214</td>\n",
       "      <td>245.847</td>\n",
       "      <td>274621</td>\n",
       "      <td>3.272</td>\n",
       "    </tr>\n",
       "    <tr>\n",
       "      <th>165</th>\n",
       "      <td>10</td>\n",
       "      <td>October</td>\n",
       "      <td>2021</td>\n",
       "      <td>17691</td>\n",
       "      <td>4.6</td>\n",
       "      <td>85</td>\n",
       "      <td>276.590</td>\n",
       "      <td>255.010</td>\n",
       "      <td>275442</td>\n",
       "      <td>3.384</td>\n",
       "    </tr>\n",
       "    <tr>\n",
       "      <th>166</th>\n",
       "      <td>11</td>\n",
       "      <td>November</td>\n",
       "      <td>2021</td>\n",
       "      <td>19261</td>\n",
       "      <td>4.2</td>\n",
       "      <td>80</td>\n",
       "      <td>278.524</td>\n",
       "      <td>261.257</td>\n",
       "      <td>275411</td>\n",
       "      <td>3.491</td>\n",
       "    </tr>\n",
       "    <tr>\n",
       "      <th>167</th>\n",
       "      <td>12</td>\n",
       "      <td>Decemeber</td>\n",
       "      <td>2021</td>\n",
       "      <td>20074</td>\n",
       "      <td>3.9</td>\n",
       "      <td>76</td>\n",
       "      <td>280.126</td>\n",
       "      <td>263.553</td>\n",
       "      <td>274615</td>\n",
       "      <td>3.406</td>\n",
       "    </tr>\n",
       "    <tr>\n",
       "      <th>168</th>\n",
       "      <td>1</td>\n",
       "      <td>January</td>\n",
       "      <td>2022</td>\n",
       "      <td>19665</td>\n",
       "      <td>4.0</td>\n",
       "      <td>83</td>\n",
       "      <td>281.933</td>\n",
       "      <td>265.929</td>\n",
       "      <td>268800</td>\n",
       "      <td>3.413</td>\n",
       "    </tr>\n",
       "    <tr>\n",
       "      <th>169</th>\n",
       "      <td>2</td>\n",
       "      <td>February</td>\n",
       "      <td>2022</td>\n",
       "      <td>15612</td>\n",
       "      <td>3.8</td>\n",
       "      <td>92</td>\n",
       "      <td>284.182</td>\n",
       "      <td>275.170</td>\n",
       "      <td>274645</td>\n",
       "      <td>3.611</td>\n",
       "    </tr>\n",
       "    <tr>\n",
       "      <th>170</th>\n",
       "      <td>3</td>\n",
       "      <td>March</td>\n",
       "      <td>2022</td>\n",
       "      <td>26228</td>\n",
       "      <td>3.6</td>\n",
       "      <td>100</td>\n",
       "      <td>287.708</td>\n",
       "      <td>305.469</td>\n",
       "      <td>272387</td>\n",
       "      <td>4.322</td>\n",
       "    </tr>\n",
       "    <tr>\n",
       "      <th>171</th>\n",
       "      <td>4</td>\n",
       "      <td>April</td>\n",
       "      <td>2022</td>\n",
       "      <td>26323</td>\n",
       "      <td>3.6</td>\n",
       "      <td>93</td>\n",
       "      <td>288.663</td>\n",
       "      <td>297.233</td>\n",
       "      <td>269795</td>\n",
       "      <td>4.213</td>\n",
       "    </tr>\n",
       "    <tr>\n",
       "      <th>172</th>\n",
       "      <td>5</td>\n",
       "      <td>May</td>\n",
       "      <td>2022</td>\n",
       "      <td>24905</td>\n",
       "      <td>3.6</td>\n",
       "      <td>91</td>\n",
       "      <td>291.474</td>\n",
       "      <td>308.839</td>\n",
       "      <td>270700</td>\n",
       "      <td>4.545</td>\n",
       "    </tr>\n",
       "    <tr>\n",
       "      <th>173</th>\n",
       "      <td>6</td>\n",
       "      <td>June</td>\n",
       "      <td>2022</td>\n",
       "      <td>23192</td>\n",
       "      <td>3.6</td>\n",
       "      <td>100</td>\n",
       "      <td>295.328</td>\n",
       "      <td>332.087</td>\n",
       "      <td>267971</td>\n",
       "      <td>5.032</td>\n",
       "    </tr>\n",
       "  </tbody>\n",
       "</table>\n",
       "</div>"
      ],
      "text/plain": [
       "     MonthNumeric MonthFactor  Year  CamrySales  Unemployment  CamryQueries  \\\n",
       "156             1     January  2021       21771           6.3            76   \n",
       "157             2    February  2021       23839           6.2            78   \n",
       "158             3       March  2021       32541           6.0            92   \n",
       "159             4       April  2021       29939           6.1            91   \n",
       "160             5         May  2021       37676           5.8            91   \n",
       "161             6        June  2021       31905           5.9            89   \n",
       "162             7        July  2021       32959           5.4            87   \n",
       "163             8      August  2021       27033           5.2            90   \n",
       "164             9    Septeber  2021       19106           4.7            85   \n",
       "165            10     October  2021       17691           4.6            85   \n",
       "166            11    November  2021       19261           4.2            80   \n",
       "167            12   Decemeber  2021       20074           3.9            76   \n",
       "168             1     January  2022       19665           4.0            83   \n",
       "169             2    February  2022       15612           3.8            92   \n",
       "170             3       March  2022       26228           3.6           100   \n",
       "171             4       April  2022       26323           3.6            93   \n",
       "172             5         May  2022       24905           3.6            91   \n",
       "173             6        June  2022       23192           3.6           100   \n",
       "\n",
       "      CPIAll  CPIEnergy  MilesTraveled  DollarPerGallon  \n",
       "156  262.200    209.328         258907            2.420  \n",
       "157  263.346    218.944         253624            2.587  \n",
       "158  265.028    231.127         267337            2.898  \n",
       "159  266.727    228.374         264108            2.948  \n",
       "160  268.599    229.874         268886            3.076  \n",
       "161  270.955    234.625         272791            3.157  \n",
       "162  272.184    238.447         274184            3.231  \n",
       "163  273.092    242.958         272447            3.255  \n",
       "164  274.214    245.847         274621            3.272  \n",
       "165  276.590    255.010         275442            3.384  \n",
       "166  278.524    261.257         275411            3.491  \n",
       "167  280.126    263.553         274615            3.406  \n",
       "168  281.933    265.929         268800            3.413  \n",
       "169  284.182    275.170         274645            3.611  \n",
       "170  287.708    305.469         272387            4.322  \n",
       "171  288.663    297.233         269795            4.213  \n",
       "172  291.474    308.839         270700            4.545  \n",
       "173  295.328    332.087         267971            5.032  "
      ]
     },
     "execution_count": 25,
     "metadata": {},
     "output_type": "execute_result"
    }
   ],
   "source": [
    "# Creating train and test sets as per specifications\n",
    "train = data[data['Year'] < 2019]\n",
    "testA = data[(data['Year'] > 2018) & (data['Year'] < 2021)]\n",
    "testB = data[data['Year'] > 2020]\n",
    "testB"
   ]
  },
  {
   "cell_type": "code",
   "execution_count": 26,
   "metadata": {},
   "outputs": [
    {
     "name": "stdout",
     "output_type": "stream",
     "text": [
      "                            OLS Regression Results                            \n",
      "==============================================================================\n",
      "Dep. Variable:             CamrySales   R-squared:                       0.158\n",
      "Model:                            OLS   Adj. R-squared:                  0.124\n",
      "Method:                 Least Squares   F-statistic:                     4.722\n",
      "Date:                Sun, 05 Feb 2023   Prob (F-statistic):           0.000549\n",
      "Time:                        15:11:57   Log-Likelihood:                -1339.1\n",
      "No. Observations:                 132   AIC:                             2690.\n",
      "Df Residuals:                     126   BIC:                             2707.\n",
      "Df Model:                           5                                         \n",
      "Covariance Type:            nonrobust                                         \n",
      "=================================================================================\n",
      "                    coef    std err          t      P>|t|      [0.025      0.975]\n",
      "---------------------------------------------------------------------------------\n",
      "const          1.056e+05   5.21e+04      2.026      0.045    2474.995    2.09e+05\n",
      "Unemployment  -1703.2073    559.555     -3.044      0.003   -2810.550    -595.865\n",
      "CamryQueries    123.3247    101.466      1.215      0.226     -77.473     324.122\n",
      "CPIEnergy        61.4988     36.639      1.679      0.096     -11.009     134.007\n",
      "CPIAll         -223.3683    127.804     -1.748      0.083    -476.288      29.551\n",
      "MilesTraveled    -0.1233      0.216     -0.570      0.569      -0.551       0.305\n",
      "==============================================================================\n",
      "Omnibus:                       10.830   Durbin-Watson:                   1.369\n",
      "Prob(Omnibus):                  0.004   Jarque-Bera (JB):               14.387\n",
      "Skew:                           0.466   Prob(JB):                     0.000751\n",
      "Kurtosis:                       4.322   Cond. No.                     2.42e+07\n",
      "==============================================================================\n",
      "\n",
      "Warnings:\n",
      "[1] Standard Errors assume that the covariance matrix of the errors is correctly specified.\n",
      "[2] The condition number is large, 2.42e+07. This might indicate that there are\n",
      "strong multicollinearity or other numerical problems.\n"
     ]
    },
    {
     "name": "stderr",
     "output_type": "stream",
     "text": [
      "/Users/divsaksena/opt/anaconda3/lib/python3.8/site-packages/statsmodels/tsa/tsatools.py:130: FutureWarning: In a future version of pandas all arguments of concat except for the argument 'objs' will be keyword-only.\n",
      "  x = pd.concat(x[::order], 1)\n"
     ]
    },
    {
     "data": {
      "text/plain": [
       "const            9021.519801\n",
       "Unemployment        4.140307\n",
       "CamryQueries        6.955649\n",
       "CPIEnergy           2.467946\n",
       "CPIAll              7.425610\n",
       "MilesTraveled      12.610832\n",
       "dtype: float64"
      ]
     },
     "execution_count": 26,
     "metadata": {},
     "output_type": "execute_result"
    }
   ],
   "source": [
    "# Choose the features to be used\n",
    "# Using all 5 features\n",
    "cols = ['Unemployment', 'CamryQueries', 'CPIEnergy', 'CPIAll','MilesTraveled']\n",
    "X_train = train[cols]\n",
    "y_train = train['CamrySales']\n",
    "\n",
    "# We must add an intercept as the standard model doesn't automatically fit one\n",
    "X_train = sm.add_constant(X_train)\n",
    "\n",
    "# Fit the data to the model\n",
    "model1 = sm.OLS(y_train, X_train).fit() #ordinary least squares method\n",
    "\n",
    "print(model1.summary())\n",
    "vif = pd.Series([variance_inflation_factor(X_train.values, i) for i in range(X_train.shape[1])], index=X_train.columns)\n",
    "vif"
   ]
  },
  {
   "cell_type": "code",
   "execution_count": 27,
   "metadata": {},
   "outputs": [
    {
     "name": "stdout",
     "output_type": "stream",
     "text": [
      "                            OLS Regression Results                            \n",
      "==============================================================================\n",
      "Dep. Variable:             CamrySales   R-squared:                       0.156\n",
      "Model:                            OLS   Adj. R-squared:                  0.129\n",
      "Method:                 Least Squares   F-statistic:                     5.852\n",
      "Date:                Sun, 05 Feb 2023   Prob (F-statistic):           0.000235\n",
      "Time:                        15:12:07   Log-Likelihood:                -1339.3\n",
      "No. Observations:                 132   AIC:                             2689.\n",
      "Df Residuals:                     127   BIC:                             2703.\n",
      "Df Model:                           4                                         \n",
      "Covariance Type:            nonrobust                                         \n",
      "================================================================================\n",
      "                   coef    std err          t      P>|t|      [0.025      0.975]\n",
      "--------------------------------------------------------------------------------\n",
      "const         7.902e+04   2.32e+04      3.400      0.001     3.3e+04    1.25e+05\n",
      "Unemployment -1536.4666    475.862     -3.229      0.002   -2478.112    -594.821\n",
      "CamryQueries   104.4718     95.677      1.092      0.277     -84.855     293.799\n",
      "CPIEnergy       77.2622     23.993      3.220      0.002      29.784     124.740\n",
      "CPIAll        -259.0928    111.110     -2.332      0.021    -478.960     -39.226\n",
      "==============================================================================\n",
      "Omnibus:                       10.674   Durbin-Watson:                   1.351\n",
      "Prob(Omnibus):                  0.005   Jarque-Bera (JB):               13.870\n",
      "Skew:                           0.470   Prob(JB):                     0.000973\n",
      "Kurtosis:                       4.280   Cond. No.                     1.38e+04\n",
      "==============================================================================\n",
      "\n",
      "Warnings:\n",
      "[1] Standard Errors assume that the covariance matrix of the errors is correctly specified.\n",
      "[2] The condition number is large, 1.38e+04. This might indicate that there are\n",
      "strong multicollinearity or other numerical problems.\n"
     ]
    },
    {
     "name": "stderr",
     "output_type": "stream",
     "text": [
      "/Users/divsaksena/opt/anaconda3/lib/python3.8/site-packages/statsmodels/tsa/tsatools.py:130: FutureWarning: In a future version of pandas all arguments of concat except for the argument 'objs' will be keyword-only.\n",
      "  x = pd.concat(x[::order], 1)\n"
     ]
    },
    {
     "data": {
      "text/plain": [
       "const           1803.402777\n",
       "Unemployment       3.010391\n",
       "CamryQueries       6.217623\n",
       "CPIEnergy          1.063965\n",
       "CPIAll             5.642441\n",
       "dtype: float64"
      ]
     },
     "execution_count": 27,
     "metadata": {},
     "output_type": "execute_result"
    }
   ],
   "source": [
    "# Choose the features to be used\n",
    "# Using 4 features\n",
    "cols = ['Unemployment', 'CamryQueries', 'CPIEnergy', 'CPIAll']\n",
    "X_train = train[cols]\n",
    "y_train = train['CamrySales']\n",
    "\n",
    "# We must add an intercept as the standard model doesn't automatically fit one\n",
    "X_train = sm.add_constant(X_train)\n",
    "\n",
    "# Fit the data to the model\n",
    "model2 = sm.OLS(y_train, X_train).fit() #ordinary least square\n",
    "print(model2.summary())\n",
    "vif = pd.Series([variance_inflation_factor(X_train.values, i) for i in range(X_train.shape[1])], index=X_train.columns)\n",
    "vif"
   ]
  },
  {
   "cell_type": "code",
   "execution_count": 32,
   "metadata": {},
   "outputs": [
    {
     "name": "stdout",
     "output_type": "stream",
     "text": [
      "                            OLS Regression Results                            \n",
      "==============================================================================\n",
      "Dep. Variable:             CamrySales   R-squared:                       0.056\n",
      "Model:                            OLS   Adj. R-squared:                  0.041\n",
      "Method:                 Least Squares   F-statistic:                     3.798\n",
      "Date:                Sun, 05 Feb 2023   Prob (F-statistic):             0.0250\n",
      "Time:                        15:14:04   Log-Likelihood:                -1346.7\n",
      "No. Observations:                 132   AIC:                             2699.\n",
      "Df Residuals:                     129   BIC:                             2708.\n",
      "Df Model:                           2                                         \n",
      "Covariance Type:            nonrobust                                         \n",
      "================================================================================\n",
      "                   coef    std err          t      P>|t|      [0.025      0.975]\n",
      "--------------------------------------------------------------------------------\n",
      "const          4.04e+04   6690.071      6.038      0.000    2.72e+04    5.36e+04\n",
      "Unemployment  -970.7220    474.977     -2.044      0.043   -1910.475     -30.969\n",
      "CamryQueries   -33.5774     66.450     -0.505      0.614    -165.051      97.896\n",
      "==============================================================================\n",
      "Omnibus:                       12.469   Durbin-Watson:                   1.236\n",
      "Prob(Omnibus):                  0.002   Jarque-Bera (JB):               14.536\n",
      "Skew:                           0.604   Prob(JB):                     0.000697\n",
      "Kurtosis:                       4.088   Cond. No.                         701.\n",
      "==============================================================================\n",
      "\n",
      "Warnings:\n",
      "[1] Standard Errors assume that the covariance matrix of the errors is correctly specified.\n"
     ]
    },
    {
     "name": "stderr",
     "output_type": "stream",
     "text": [
      "/Users/divsaksena/opt/anaconda3/lib/python3.8/site-packages/statsmodels/tsa/tsatools.py:130: FutureWarning: In a future version of pandas all arguments of concat except for the argument 'objs' will be keyword-only.\n",
      "  x = pd.concat(x[::order], 1)\n"
     ]
    },
    {
     "data": {
      "text/plain": [
       "const           135.714496\n",
       "Unemployment      2.723800\n",
       "CamryQueries      2.723800\n",
       "dtype: float64"
      ]
     },
     "execution_count": 32,
     "metadata": {},
     "output_type": "execute_result"
    }
   ],
   "source": [
    "cols = ['Unemployment', 'CamryQueries']\n",
    "X_train = train[cols]\n",
    "y_train = train['CamrySales']\n",
    "\n",
    "# We must add an intercept as the standard model doesn't automatically fit one\n",
    "X_train = sm.add_constant(X_train)\n",
    "\n",
    "# Fit the data to the model\n",
    "model3 = sm.OLS(y_train, X_train).fit() #ordinary least square\n",
    "print(model3.summary())\n",
    "vif = pd.Series([variance_inflation_factor(X_train.values, i) for i in range(X_train.shape[1])], index=X_train.columns)\n",
    "vif"
   ]
  },
  {
   "cell_type": "markdown",
   "metadata": {},
   "source": [
    "### Answers"
   ]
  },
  {
   "cell_type": "markdown",
   "metadata": {},
   "source": [
    "a)i) My final equation is as follows: \n",
    "$CamrySales = 40400 - 970.072*(Unemployment) - 33.57*(CamryQueries)$.\n",
    "\n",
    "The first coefficient (of unemployment) means that Camry Sales drop approximately 971 units in a month for every 1% ride in unemployment. The coefficient of CamryQueries suggests that sales wpuld drop by approx 33 units in a month for every additional unit of monthly Camry queuries. "
   ]
  },
  {
   "cell_type": "markdown",
   "metadata": {},
   "source": [
    "ii) For variable selection I used the method of variance inflation factors and eliminated CPIEnergy, MilesTraveled, and CPIAll. Most of the variables I eliminated also had 95% CIs that included zero. Although even CamryQueries had zero in the 95% CIs but I believed this to be a more important metric than the others because it is reasonable to expect that this would be a good proxy for demand. Additionally we would expect unemployment to be helpful in this prediction, too.  I did not remove CamryQueries from the regression equation as it was the most direct measure of how the demand for Camries could work."
   ]
  },
  {
   "cell_type": "markdown",
   "metadata": {},
   "source": [
    "iii) I am fairly confident of the sign of unemployment as we would expect them to move in opposite directions i.e if unemployment rises, camry sales would fall. However, the model also predicts a negative relationship with camry queries, which does not make sense to me. I would expect the online search queries to be positively related to actual camry sales. "
   ]
  },
  {
   "cell_type": "markdown",
   "metadata": {},
   "source": [
    "iv) The model, surprisingly, performs poorly after variable selection with an R^2 value of only 0.056, which is extremely low. The more variables removed, the worse the performance of the model becomes. I suspect this has something to do with the actual data."
   ]
  },
  {
   "cell_type": "markdown",
   "metadata": {},
   "source": [
    "## Part B: Seasonality"
   ]
  },
  {
   "cell_type": "code",
   "execution_count": 33,
   "metadata": {},
   "outputs": [],
   "source": [
    "# Using the month factor variable"
   ]
  },
  {
   "cell_type": "code",
   "execution_count": 34,
   "metadata": {},
   "outputs": [
    {
     "name": "stdout",
     "output_type": "stream",
     "text": [
      "                            OLS Regression Results                            \n",
      "==============================================================================\n",
      "Dep. Variable:             CamrySales   R-squared:                       0.511\n",
      "Model:                            OLS   Adj. R-squared:                  0.443\n",
      "Method:                 Least Squares   F-statistic:                     7.499\n",
      "Date:                Sun, 05 Feb 2023   Prob (F-statistic):           9.58e-12\n",
      "Time:                        15:14:17   Log-Likelihood:                -1303.3\n",
      "No. Observations:                 132   AIC:                             2641.\n",
      "Df Residuals:                     115   BIC:                             2690.\n",
      "Df Model:                          16                                         \n",
      "Covariance Type:            nonrobust                                         \n",
      "============================================================================================\n",
      "                               coef    std err          t      P>|t|      [0.025      0.975]\n",
      "--------------------------------------------------------------------------------------------\n",
      "Intercept                 5.254e+04   4.45e+04      1.181      0.240   -3.56e+04    1.41e+05\n",
      "MonthFactor[T.August]     6371.0615   2239.844      2.844      0.005    1934.361    1.08e+04\n",
      "MonthFactor[T.Decemeber]   -21.2798   2189.387     -0.010      0.992   -4358.034    4315.475\n",
      "MonthFactor[T.February]  -4070.3267   2160.889     -1.884      0.062   -8350.632     209.979\n",
      "MonthFactor[T.January]   -8454.2808   2157.947     -3.918      0.000   -1.27e+04   -4179.803\n",
      "MonthFactor[T.July]       2059.1122   2231.530      0.923      0.358   -2361.119    6479.344\n",
      "MonthFactor[T.June]       -152.1656   2188.230     -0.070      0.945   -4486.628    4182.297\n",
      "MonthFactor[T.March]      4295.9759   2170.102      1.980      0.050      -2.578    8594.530\n",
      "MonthFactor[T.May]        4123.4444   2170.839      1.899      0.060    -176.571    8423.459\n",
      "MonthFactor[T.November]  -5524.5836   2181.121     -2.533      0.013   -9844.965   -1204.203\n",
      "MonthFactor[T.October]   -3901.8940   2158.363     -1.808      0.073   -8177.196     373.408\n",
      "MonthFactor[T.Septeber]  -2473.1502   2167.783     -1.141      0.256   -6767.111    1820.811\n",
      "Unemployment             -2025.7883    450.769     -4.494      0.000   -2918.674   -1132.903\n",
      "CamryQueries              -137.0903     97.393     -1.408      0.162    -330.006      55.826\n",
      "CPIAll                     -59.7538    107.810     -0.554      0.580    -273.304     153.796\n",
      "CPIEnergy                   73.8824     29.611      2.495      0.014      15.229     132.536\n",
      "MilesTraveled               -0.0038      0.178     -0.021      0.983      -0.357       0.349\n",
      "==============================================================================\n",
      "Omnibus:                       15.106   Durbin-Watson:                   1.139\n",
      "Prob(Omnibus):                  0.001   Jarque-Bera (JB):               41.116\n",
      "Skew:                           0.313   Prob(JB):                     1.18e-09\n",
      "Kurtosis:                       5.662   Cond. No.                     2.59e+07\n",
      "==============================================================================\n",
      "\n",
      "Warnings:\n",
      "[1] Standard Errors assume that the covariance matrix of the errors is correctly specified.\n",
      "[2] The condition number is large, 2.59e+07. This might indicate that there are\n",
      "strong multicollinearity or other numerical problems.\n"
     ]
    }
   ],
   "source": [
    "X_train = train[['Unemployment','CamryQueries','CPIAll','CPIEnergy','MilesTraveled','MonthFactor']]\n",
    "model1b = smf.ols(formula = 'CamrySales ~ Unemployment + CamryQueries + CPIAll +CPIEnergy + MonthFactor + MilesTraveled', data = train).fit()\n",
    "# Model summary\n",
    "print(model1b.summary())"
   ]
  },
  {
   "cell_type": "markdown",
   "metadata": {},
   "source": [
    "### Questions"
   ]
  },
  {
   "cell_type": "markdown",
   "metadata": {},
   "source": [
    "i) The regression equation is as follows:\n",
    "$CamrySales = 52540 -8454.28*(January) - 4070.32*(February) + 4295.97*(March) + 4123.44*(May) -152.165*(June) + 2059.1122*(July) +6371.06*(August)- 2473.15*(September) -3901.89*(October) - 5524.58*(November) -21.27*(December) - 2025.78*(Unemployment) - 137.09*(CamryQueries) -59.75*(CPIAll) + 73.88*(CPIEnergy) - 0.0038*(MilesTraveled)$\n",
    "\n",
    "In terms of interpretation, if the current month is January January then it is expected to resuit in 8454.28 less Camrys sold. Similarly, we interpret the coefficient of the rest of the MonthFactor dummy variables."
   ]
  },
  {
   "cell_type": "markdown",
   "metadata": {},
   "source": [
    "ii) The training set R^2 value for this model is signficantly higher as compared to earlier (0.511 vs 0.059). Since most of the monthfactor variables don't include zero in their 95% CI along with Unemployment, we can consider them to be statistically significant. Intuitively this makes sense due to the prospect of seasonality in demand and unemployment being a good variable to use as per the last model, too. Surprisingly, CPIEnergy is also significant. "
   ]
  },
  {
   "cell_type": "markdown",
   "metadata": {},
   "source": [
    "iii) I do believe that adding MonthFactor as variable has greatly improved the performance of the model. This is evident in the signifcant improvement in the R^2 value. "
   ]
  },
  {
   "cell_type": "markdown",
   "metadata": {},
   "source": [
    "iv) One way to do this would be to use Fourier transform to decompose this time series into its constitutent frequencies and amplitudes. This would allow us to improve on the current model as we would be able to capture peaks better and understand this seasonal decomposition to a greater degree."
   ]
  },
  {
   "cell_type": "markdown",
   "metadata": {},
   "source": [
    "## Part C: Creating a New Model\n"
   ]
  },
  {
   "cell_type": "code",
   "execution_count": 35,
   "metadata": {},
   "outputs": [],
   "source": [
    "# compute out of sample R-squared value using test set\n",
    "def OSR2(model, df_train, df_test, dependentvar):\n",
    "    y_test = df_test[dependentvar]\n",
    "    y_pred = model.predict(df_test)\n",
    "    SSE = np.sum((y_test - y_pred)**2)\n",
    "    SST = np.sum((y_test - np.mean(df_train[dependentvar]))**2)\n",
    "    return 1 - SSE/SST"
   ]
  },
  {
   "cell_type": "code",
   "execution_count": 36,
   "metadata": {},
   "outputs": [
    {
     "name": "stdout",
     "output_type": "stream",
     "text": [
      "                            OLS Regression Results                            \n",
      "==============================================================================\n",
      "Dep. Variable:             CamrySales   R-squared:                       0.447\n",
      "Model:                            OLS   Adj. R-squared:                  0.386\n",
      "Method:                 Least Squares   F-statistic:                     7.337\n",
      "Date:                Sun, 05 Feb 2023   Prob (F-statistic):           2.27e-10\n",
      "Time:                        15:48:58   Log-Likelihood:                -1311.3\n",
      "No. Observations:                 132   AIC:                             2651.\n",
      "Df Residuals:                     118   BIC:                             2691.\n",
      "Df Model:                          13                                         \n",
      "Covariance Type:            nonrobust                                         \n",
      "============================================================================================\n",
      "                               coef    std err          t      P>|t|      [0.025      0.975]\n",
      "--------------------------------------------------------------------------------------------\n",
      "Intercept                 5.304e+04   5853.570      9.061      0.000    4.14e+04    6.46e+04\n",
      "MonthFactor[T.August]     6799.2031   2285.190      2.975      0.004    2273.905    1.13e+04\n",
      "MonthFactor[T.Decemeber]  -440.6233   2258.080     -0.195      0.846   -4912.236    4030.989\n",
      "MonthFactor[T.February]  -4103.4034   2253.368     -1.821      0.071   -8565.685     358.878\n",
      "MonthFactor[T.January]   -8582.2560   2253.132     -3.809      0.000    -1.3e+04   -4120.440\n",
      "MonthFactor[T.July]       2415.5278   2280.281      1.059      0.292   -2100.050    6931.105\n",
      "MonthFactor[T.June]        157.5364   2263.826      0.070      0.945   -4325.455    4640.528\n",
      "MonthFactor[T.March]      4314.9100   2252.182      1.916      0.058    -145.024    8774.844\n",
      "MonthFactor[T.May]        4204.5159   2253.834      1.865      0.065    -258.688    8667.720\n",
      "MonthFactor[T.November]  -5698.2045   2254.721     -2.527      0.013   -1.02e+04   -1233.243\n",
      "MonthFactor[T.October]   -3664.2799   2252.425     -1.627      0.106   -8124.696     796.136\n",
      "MonthFactor[T.Septeber]  -2085.5453   2255.842     -0.925      0.357   -6552.728    2381.637\n",
      "Unemployment             -1693.1384    398.650     -4.247      0.000   -2482.573    -903.703\n",
      "CamryQueries              -158.6216     57.156     -2.775      0.006    -271.806     -45.437\n",
      "==============================================================================\n",
      "Omnibus:                        7.207   Durbin-Watson:                   1.025\n",
      "Prob(Omnibus):                  0.027   Jarque-Bera (JB):                9.159\n",
      "Skew:                           0.310   Prob(JB):                       0.0103\n",
      "Kurtosis:                       4.131   Cond. No.                         825.\n",
      "==============================================================================\n",
      "\n",
      "Warnings:\n",
      "[1] Standard Errors assume that the covariance matrix of the errors is correctly specified.\n"
     ]
    }
   ],
   "source": [
    "# New model\n",
    "\n",
    "# Fit the data to the model using this different method (lab 2)\n",
    "X_train = train[['Unemployment','CamryQueries','MonthFactor']]\n",
    "newmodel = smf.ols(formula = 'CamrySales ~ Unemployment + CamryQueries + MonthFactor', data = train).fit()\n",
    "# Model summary\n",
    "print(newmodel.summary())"
   ]
  },
  {
   "cell_type": "code",
   "execution_count": 37,
   "metadata": {},
   "outputs": [
    {
     "name": "stdout",
     "output_type": "stream",
     "text": [
      "New Model OSR^2 for Test Set A: 0.37953090461112937\n",
      "New Model OSR^2 for Test Set B: 0.2676821638945862\n"
     ]
    }
   ],
   "source": [
    "# Computing OSR-squared for the two test sets \n",
    "print('New Model OSR^2 for Test Set A:', OSR2(newmodel, train, testA, 'CamrySales'))\n",
    "print('New Model OSR^2 for Test Set B:', OSR2(newmodel, train, testB, 'CamrySales'))"
   ]
  },
  {
   "cell_type": "markdown",
   "metadata": {},
   "source": [
    "### Questions"
   ]
  },
  {
   "cell_type": "markdown",
   "metadata": {},
   "source": [
    "We see that while the R^2 on the test set is quite high at 0.447, the OSR^2 on Test Set A is slightly lower at 0.379 but the OSR^2 for Test Set B is much lower at 0.26. I think the OSR^2 is much lower here in these test sets due to the sudden and deep-impact of COVID on car buying patterns. "
   ]
  },
  {
   "cell_type": "markdown",
   "metadata": {},
   "source": [
    "## Using Additional variable\n"
   ]
  },
  {
   "cell_type": "markdown",
   "metadata": {},
   "source": [
    "I chose the national average gas prices in the country because I believe this is a much better proxy to gather sentiment than using CPI energy as it is focused exclusively on gasoline prices used to drive cars. Since a Camry is a hybrid, this variable could do a good job in adding more nuance to our models. This is only one factor in capturing additional monthly information. Another closely related variable for hybribs would have been electric charging prices. (I found this dataset on the U.S Energy Information Administration website.)"
   ]
  },
  {
   "cell_type": "code",
   "execution_count": 38,
   "metadata": {},
   "outputs": [
    {
     "data": {
      "text/html": [
       "<div>\n",
       "<style scoped>\n",
       "    .dataframe tbody tr th:only-of-type {\n",
       "        vertical-align: middle;\n",
       "    }\n",
       "\n",
       "    .dataframe tbody tr th {\n",
       "        vertical-align: top;\n",
       "    }\n",
       "\n",
       "    .dataframe thead th {\n",
       "        text-align: right;\n",
       "    }\n",
       "</style>\n",
       "<table border=\"1\" class=\"dataframe\">\n",
       "  <thead>\n",
       "    <tr style=\"text-align: right;\">\n",
       "      <th></th>\n",
       "      <th>MonthFactor</th>\n",
       "      <th>Year</th>\n",
       "      <th>Dollar Per Gallon</th>\n",
       "    </tr>\n",
       "  </thead>\n",
       "  <tbody>\n",
       "    <tr>\n",
       "      <th>0</th>\n",
       "      <td>January</td>\n",
       "      <td>2008</td>\n",
       "      <td>3.095</td>\n",
       "    </tr>\n",
       "    <tr>\n",
       "      <th>1</th>\n",
       "      <td>February</td>\n",
       "      <td>2008</td>\n",
       "      <td>3.078</td>\n",
       "    </tr>\n",
       "    <tr>\n",
       "      <th>2</th>\n",
       "      <td>March</td>\n",
       "      <td>2008</td>\n",
       "      <td>3.293</td>\n",
       "    </tr>\n",
       "    <tr>\n",
       "      <th>3</th>\n",
       "      <td>April</td>\n",
       "      <td>2008</td>\n",
       "      <td>3.507</td>\n",
       "    </tr>\n",
       "    <tr>\n",
       "      <th>4</th>\n",
       "      <td>May</td>\n",
       "      <td>2008</td>\n",
       "      <td>3.815</td>\n",
       "    </tr>\n",
       "  </tbody>\n",
       "</table>\n",
       "</div>"
      ],
      "text/plain": [
       "  MonthFactor  Year  Dollar Per Gallon\n",
       "0     January  2008              3.095\n",
       "1    February  2008              3.078\n",
       "2       March  2008              3.293\n",
       "3       April  2008              3.507\n",
       "4         May  2008              3.815"
      ]
     },
     "execution_count": 38,
     "metadata": {},
     "output_type": "execute_result"
    }
   ],
   "source": [
    "gasdata = pd.read_csv(\"gasprices.csv\")\n",
    "gasdata.head()"
   ]
  },
  {
   "cell_type": "code",
   "execution_count": 39,
   "metadata": {},
   "outputs": [],
   "source": [
    "newdata = gasdata['Dollar Per Gallon']\n",
    "data['DollarPerGallon']= newdata"
   ]
  },
  {
   "cell_type": "code",
   "execution_count": 40,
   "metadata": {},
   "outputs": [
    {
     "data": {
      "text/html": [
       "<div>\n",
       "<style scoped>\n",
       "    .dataframe tbody tr th:only-of-type {\n",
       "        vertical-align: middle;\n",
       "    }\n",
       "\n",
       "    .dataframe tbody tr th {\n",
       "        vertical-align: top;\n",
       "    }\n",
       "\n",
       "    .dataframe thead th {\n",
       "        text-align: right;\n",
       "    }\n",
       "</style>\n",
       "<table border=\"1\" class=\"dataframe\">\n",
       "  <thead>\n",
       "    <tr style=\"text-align: right;\">\n",
       "      <th></th>\n",
       "      <th>MonthNumeric</th>\n",
       "      <th>MonthFactor</th>\n",
       "      <th>Year</th>\n",
       "      <th>CamrySales</th>\n",
       "      <th>Unemployment</th>\n",
       "      <th>CamryQueries</th>\n",
       "      <th>CPIAll</th>\n",
       "      <th>CPIEnergy</th>\n",
       "      <th>MilesTraveled</th>\n",
       "      <th>DollarPerGallon</th>\n",
       "    </tr>\n",
       "  </thead>\n",
       "  <tbody>\n",
       "    <tr>\n",
       "      <th>0</th>\n",
       "      <td>1</td>\n",
       "      <td>January</td>\n",
       "      <td>2008</td>\n",
       "      <td>31601</td>\n",
       "      <td>5.0</td>\n",
       "      <td>40</td>\n",
       "      <td>212.174</td>\n",
       "      <td>226.775</td>\n",
       "      <td>253376</td>\n",
       "      <td>3.095</td>\n",
       "    </tr>\n",
       "    <tr>\n",
       "      <th>1</th>\n",
       "      <td>2</td>\n",
       "      <td>February</td>\n",
       "      <td>2008</td>\n",
       "      <td>34914</td>\n",
       "      <td>4.9</td>\n",
       "      <td>41</td>\n",
       "      <td>212.687</td>\n",
       "      <td>229.731</td>\n",
       "      <td>250551</td>\n",
       "      <td>3.078</td>\n",
       "    </tr>\n",
       "    <tr>\n",
       "      <th>2</th>\n",
       "      <td>3</td>\n",
       "      <td>March</td>\n",
       "      <td>2008</td>\n",
       "      <td>40487</td>\n",
       "      <td>5.1</td>\n",
       "      <td>51</td>\n",
       "      <td>213.448</td>\n",
       "      <td>233.349</td>\n",
       "      <td>248981</td>\n",
       "      <td>3.293</td>\n",
       "    </tr>\n",
       "    <tr>\n",
       "      <th>3</th>\n",
       "      <td>4</td>\n",
       "      <td>April</td>\n",
       "      <td>2008</td>\n",
       "      <td>40016</td>\n",
       "      <td>5.0</td>\n",
       "      <td>47</td>\n",
       "      <td>213.942</td>\n",
       "      <td>234.778</td>\n",
       "      <td>249101</td>\n",
       "      <td>3.507</td>\n",
       "    </tr>\n",
       "    <tr>\n",
       "      <th>4</th>\n",
       "      <td>5</td>\n",
       "      <td>May</td>\n",
       "      <td>2008</td>\n",
       "      <td>51291</td>\n",
       "      <td>5.4</td>\n",
       "      <td>54</td>\n",
       "      <td>215.208</td>\n",
       "      <td>243.924</td>\n",
       "      <td>248415</td>\n",
       "      <td>3.815</td>\n",
       "    </tr>\n",
       "    <tr>\n",
       "      <th>...</th>\n",
       "      <td>...</td>\n",
       "      <td>...</td>\n",
       "      <td>...</td>\n",
       "      <td>...</td>\n",
       "      <td>...</td>\n",
       "      <td>...</td>\n",
       "      <td>...</td>\n",
       "      <td>...</td>\n",
       "      <td>...</td>\n",
       "      <td>...</td>\n",
       "    </tr>\n",
       "    <tr>\n",
       "      <th>127</th>\n",
       "      <td>8</td>\n",
       "      <td>August</td>\n",
       "      <td>2018</td>\n",
       "      <td>30141</td>\n",
       "      <td>3.8</td>\n",
       "      <td>92</td>\n",
       "      <td>251.749</td>\n",
       "      <td>222.435</td>\n",
       "      <td>267900</td>\n",
       "      <td>2.914</td>\n",
       "    </tr>\n",
       "    <tr>\n",
       "      <th>128</th>\n",
       "      <td>9</td>\n",
       "      <td>Septeber</td>\n",
       "      <td>2018</td>\n",
       "      <td>27640</td>\n",
       "      <td>3.7</td>\n",
       "      <td>84</td>\n",
       "      <td>252.239</td>\n",
       "      <td>223.444</td>\n",
       "      <td>269877</td>\n",
       "      <td>2.915</td>\n",
       "    </tr>\n",
       "    <tr>\n",
       "      <th>129</th>\n",
       "      <td>10</td>\n",
       "      <td>October</td>\n",
       "      <td>2018</td>\n",
       "      <td>26914</td>\n",
       "      <td>3.8</td>\n",
       "      <td>80</td>\n",
       "      <td>252.862</td>\n",
       "      <td>226.462</td>\n",
       "      <td>270155</td>\n",
       "      <td>2.943</td>\n",
       "    </tr>\n",
       "    <tr>\n",
       "      <th>130</th>\n",
       "      <td>11</td>\n",
       "      <td>November</td>\n",
       "      <td>2018</td>\n",
       "      <td>24545</td>\n",
       "      <td>3.8</td>\n",
       "      <td>76</td>\n",
       "      <td>252.657</td>\n",
       "      <td>219.267</td>\n",
       "      <td>269052</td>\n",
       "      <td>2.736</td>\n",
       "    </tr>\n",
       "    <tr>\n",
       "      <th>131</th>\n",
       "      <td>12</td>\n",
       "      <td>Decemeber</td>\n",
       "      <td>2018</td>\n",
       "      <td>29093</td>\n",
       "      <td>3.9</td>\n",
       "      <td>78</td>\n",
       "      <td>252.551</td>\n",
       "      <td>212.633</td>\n",
       "      <td>277525</td>\n",
       "      <td>2.457</td>\n",
       "    </tr>\n",
       "  </tbody>\n",
       "</table>\n",
       "<p>132 rows × 10 columns</p>\n",
       "</div>"
      ],
      "text/plain": [
       "     MonthNumeric MonthFactor  Year  CamrySales  Unemployment  CamryQueries  \\\n",
       "0               1     January  2008       31601           5.0            40   \n",
       "1               2    February  2008       34914           4.9            41   \n",
       "2               3       March  2008       40487           5.1            51   \n",
       "3               4       April  2008       40016           5.0            47   \n",
       "4               5         May  2008       51291           5.4            54   \n",
       "..            ...         ...   ...         ...           ...           ...   \n",
       "127             8      August  2018       30141           3.8            92   \n",
       "128             9    Septeber  2018       27640           3.7            84   \n",
       "129            10     October  2018       26914           3.8            80   \n",
       "130            11    November  2018       24545           3.8            76   \n",
       "131            12   Decemeber  2018       29093           3.9            78   \n",
       "\n",
       "      CPIAll  CPIEnergy  MilesTraveled  DollarPerGallon  \n",
       "0    212.174    226.775         253376            3.095  \n",
       "1    212.687    229.731         250551            3.078  \n",
       "2    213.448    233.349         248981            3.293  \n",
       "3    213.942    234.778         249101            3.507  \n",
       "4    215.208    243.924         248415            3.815  \n",
       "..       ...        ...            ...              ...  \n",
       "127  251.749    222.435         267900            2.914  \n",
       "128  252.239    223.444         269877            2.915  \n",
       "129  252.862    226.462         270155            2.943  \n",
       "130  252.657    219.267         269052            2.736  \n",
       "131  252.551    212.633         277525            2.457  \n",
       "\n",
       "[132 rows x 10 columns]"
      ]
     },
     "execution_count": 40,
     "metadata": {},
     "output_type": "execute_result"
    }
   ],
   "source": [
    "newtrain = data[data['Year'] < 2019]\n",
    "newtestA = data[(data['Year'] > 2018) & (data['Year'] < 2021)]\n",
    "newtestB = data[data['Year'] > 2020]\n",
    "newtrain"
   ]
  },
  {
   "cell_type": "code",
   "execution_count": 41,
   "metadata": {},
   "outputs": [
    {
     "data": {
      "text/plain": [
       "<matplotlib.axes._subplots.AxesSubplot at 0x7fe535d048b0>"
      ]
     },
     "execution_count": 41,
     "metadata": {},
     "output_type": "execute_result"
    },
    {
     "data": {
      "image/png": "[encoded data removed]",
      "text/plain": [
       "<Figure size 432x288 with 1 Axes>"
      ]
     },
     "metadata": {
      "needs_background": "light"
     },
     "output_type": "display_data"
    },
    {
     "data": {
      "image/png": "[encoded data removed]",
      "text/plain": [
       "<Figure size 432x288 with 1 Axes>"
      ]
     },
     "metadata": {
      "needs_background": "light"
     },
     "output_type": "display_data"
    }
   ],
   "source": [
    "newtestB.plot(y=('CamrySales'))\n",
    "newtestB.plot(y='DollarPerGallon')"
   ]
  },
  {
   "cell_type": "code",
   "execution_count": 42,
   "metadata": {},
   "outputs": [
    {
     "name": "stdout",
     "output_type": "stream",
     "text": [
      "                            OLS Regression Results                            \n",
      "==============================================================================\n",
      "Dep. Variable:             CamrySales   R-squared:                       0.521\n",
      "Model:                            OLS   Adj. R-squared:                  0.464\n",
      "Method:                 Least Squares   F-statistic:                     9.093\n",
      "Date:                Sun, 05 Feb 2023   Prob (F-statistic):           3.42e-13\n",
      "Time:                        15:49:06   Log-Likelihood:                -1301.8\n",
      "No. Observations:                 132   AIC:                             2634.\n",
      "Df Residuals:                     117   BIC:                             2677.\n",
      "Df Model:                          14                                         \n",
      "Covariance Type:            nonrobust                                         \n",
      "============================================================================================\n",
      "                               coef    std err          t      P>|t|      [0.025      0.975]\n",
      "--------------------------------------------------------------------------------------------\n",
      "Intercept                 4.673e+04   5668.245      8.243      0.000    3.55e+04     5.8e+04\n",
      "MonthFactor[T.August]     6794.4634   2135.692      3.181      0.002    2564.838     1.1e+04\n",
      "MonthFactor[T.Decemeber]   742.9353   2128.614      0.349      0.728   -3472.674    4958.545\n",
      "MonthFactor[T.February]  -3301.8255   2114.364     -1.562      0.121   -7489.212     885.561\n",
      "MonthFactor[T.January]   -7576.8173   2118.953     -3.576      0.001   -1.18e+04   -3380.342\n",
      "MonthFactor[T.July]       2326.5083   2131.207      1.092      0.277   -1894.235    6547.252\n",
      "MonthFactor[T.June]       -140.0760   2116.882     -0.066      0.947   -4332.449    4052.297\n",
      "MonthFactor[T.March]      4673.6802   2106.532      2.219      0.028     501.803    8845.557\n",
      "MonthFactor[T.May]        3943.3204   2107.282      1.871      0.064    -230.040    8116.681\n",
      "MonthFactor[T.November]  -4907.4390   2115.399     -2.320      0.022   -9096.876    -718.003\n",
      "MonthFactor[T.October]   -3344.8626   2106.409     -1.588      0.115   -7516.496     826.771\n",
      "MonthFactor[T.Septeber]  -2165.3854   2108.348     -1.027      0.307   -6340.858    2010.087\n",
      "Unemployment             -2115.6771    385.582     -5.487      0.000   -2879.302   -1352.053\n",
      "CamryQueries              -182.3243     53.707     -3.395      0.001    -288.688     -75.961\n",
      "DollarPerGallon           3408.2419    801.149      4.254      0.000    1821.609    4994.875\n",
      "==============================================================================\n",
      "Omnibus:                       18.382   Durbin-Watson:                   1.186\n",
      "Prob(Omnibus):                  0.000   Jarque-Bera (JB):               58.484\n",
      "Skew:                           0.374   Prob(JB):                     2.00e-13\n",
      "Kurtosis:                       6.174   Cond. No.                         849.\n",
      "==============================================================================\n",
      "\n",
      "Warnings:\n",
      "[1] Standard Errors assume that the covariance matrix of the errors is correctly specified.\n"
     ]
    }
   ],
   "source": [
    "## Creating final model \n",
    "X_train = newtrain[['Unemployment','CamryQueries','MonthFactor', 'DollarPerGallon']]\n",
    "model5 = smf.ols(formula = 'CamrySales ~ Unemployment + CamryQueries + MonthFactor + DollarPerGallon', data = newtrain).fit()\n",
    "# Model summary\n",
    "print(model5.summary())"
   ]
  },
  {
   "cell_type": "code",
   "execution_count": 22,
   "metadata": {},
   "outputs": [
    {
     "data": {
      "text/plain": [
       "(24, 18)"
      ]
     },
     "execution_count": 22,
     "metadata": {},
     "output_type": "execute_result"
    }
   ],
   "source": [
    "len(newtestA), len(newtestB)"
   ]
  },
  {
   "cell_type": "code",
   "execution_count": 23,
   "metadata": {},
   "outputs": [
    {
     "name": "stdout",
     "output_type": "stream",
     "text": [
      "Model 5 OSR^2 for New Test Set A: 0.4247729615374247\n",
      "Model 5 OSR^2 for New Test Set B: -0.2750587100045305\n"
     ]
    }
   ],
   "source": [
    "# Calc OSR-squared \n",
    "print('Model 5 OSR^2 for New Test Set A:', OSR2(model5, newtrain, newtestA, 'CamrySales'))\n",
    "print('Model 5 OSR^2 for New Test Set B:', OSR2(model5, newtrain, newtestB, 'CamrySales'))"
   ]
  },
  {
   "cell_type": "markdown",
   "metadata": {},
   "source": [
    "Clearly, this model is our best performing yet with the highest R^2 value of 0.5211."
   ]
  },
  {
   "cell_type": "markdown",
   "metadata": {},
   "source": [
    "### Questions"
   ]
  },
  {
   "cell_type": "markdown",
   "metadata": {},
   "source": [
    "I decided to pick the national average gas price for the same time period. Since a Camry is a hybrid, I thought it's sales would be affected, in part, by the trend in gas prices. The new feature definitely adds value as the R^2 value for the test set is higher at 0.52. However, I am confused as to why the OSR^2 for Test Set B is negative. This suggests some form fo extremet overfitting during the COVID period. The DollarPergallon variable that I added is significant since the 95% confidence interval does not contain 0. This is reaffirming of my choice of variable. "
   ]
  },
  {
   "cell_type": "code",
   "execution_count": null,
   "metadata": {},
   "outputs": [],
   "source": []
  }
 ],
 "metadata": {
  "kernelspec": {
   "display_name": "Python 3",
   "language": "python",
   "name": "python3"
  },
  "language_info": {
   "codemirror_mode": {
    "name": "ipython",
    "version": 3
   },
   "file_extension": ".py",
   "mimetype": "text/x-python",
   "name": "python",
   "nbconvert_exporter": "python",
   "pygments_lexer": "ipython3",
   "version": "3.8.3"
  }
 },
 "nbformat": 4,
 "nbformat_minor": 4
}
