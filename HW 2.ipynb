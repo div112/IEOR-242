{
 "cells": [
  {
   "cell_type": "code",
   "execution_count": 1,
   "metadata": {},
   "outputs": [],
   "source": [
    "import numpy as np \n",
    "import pandas as pd \n",
    "import matplotlib.pyplot as plt\n"
   ]
  },
  {
   "cell_type": "markdown",
   "metadata": {},
   "source": [
    "# Problem 1 - Decision Trees (Lending)"
   ]
  },
  {
   "cell_type": "code",
   "execution_count": 2,
   "metadata": {},
   "outputs": [],
   "source": [
    "df = pd.DataFrame()"
   ]
  },
  {
   "cell_type": "code",
   "execution_count": 3,
   "metadata": {},
   "outputs": [],
   "source": [
    "a = np.arange(0,1, 0.01)"
   ]
  },
  {
   "cell_type": "code",
   "execution_count": 4,
   "metadata": {},
   "outputs": [],
   "source": [
    "df['p']=a"
   ]
  },
  {
   "cell_type": "code",
   "execution_count": 5,
   "metadata": {},
   "outputs": [],
   "source": [
    "low= [1000- 5000*p for p in a]\n",
    "high= [-2750*p+ 750 for p in a]\n",
    "dont_fund= 0 *(len(high))"
   ]
  },
  {
   "cell_type": "code",
   "execution_count": 6,
   "metadata": {},
   "outputs": [],
   "source": [
    "df['Low_int']= low\n",
    "df['High_int']=high\n",
    "df['Dont_Fund']=dont_fund"
   ]
  },
  {
   "cell_type": "code",
   "execution_count": 7,
   "metadata": {},
   "outputs": [
    {
     "data": {
      "text/plain": [
       "(-1500.0, 1000.0)"
      ]
     },
     "execution_count": 7,
     "metadata": {},
     "output_type": "execute_result"
    },
    {
     "data": {
      "image/png": "[encoded data removed]",
      "text/plain": [
       "<Figure size 432x288 with 1 Axes>"
      ]
     },
     "metadata": {
      "needs_background": "light"
     },
     "output_type": "display_data"
    }
   ],
   "source": [
    "t= a\n",
    "plt.plot(t,df['Low_int'], \"-b\", label =\"E(Profit Low-int)\")\n",
    "plt.plot(t,df['High_int'],\"-k\", label = \"E(Profit High-int)\")\n",
    "plt.plot(t,df['Dont_Fund'],\"-g\", label = \"E(Profit from not funding)\")\n",
    "\n",
    "plt.fill_betweenx(df['Low_int'], x1=0.11, x2=0.2727, color='orange', alpha=0.3)\n",
    "plt.fill_betweenx(df['Low_int'], x1=0, x2=0.11, color='yellow', alpha=0.3)\n",
    "plt.fill_betweenx(df['Low_int'], x1=0.27, x2=1, color='red', alpha=0.3)\n",
    "\n",
    "plt.ylabel('Profit')\n",
    "plt.legend(loc=\"upper left\", bbox_to_anchor=(1.0, 0.5))\n",
    "plt.title(\"Profit from each case\")\n",
    "\n",
    "plt.ylim(-1500,1000)"
   ]
  },
  {
   "cell_type": "markdown",
   "metadata": {},
   "source": [
    "c) As we see in the above figure, the yellow region highlights the values of 'p' for which funding the low-interest loan is the optimal decision; the orange shaded region highlights the values of 'p' for which funding the high-interest loan is the optimal decision, and the red shaded region highlights the values of 'p' for which not funding a loan is the optimal decision."
   ]
  },
  {
   "cell_type": "markdown",
   "metadata": {},
   "source": [
    "d) To estimate the parameter \"p\" I would run a logistic regression model that would predict the probability of default based on certain traits of a borrower. This would give me an estimate of the parameter \"p\" for each borrower. Then, to estimate parameter \"q\" I would run another logistic regression model to predict the probability of agreeing to this high-interest loan. This model would use traits of the borrower and of the loan as predictors. My dataset for creating these models would have to include borrower traits such as credit score, current income, employment, education, among other and loan features such as whether the loan was funded, interest rate on the loan, and the status of default. \n",
    "<br>\n",
    "Another method could be to try and employ a decision tree method."
   ]
  },
  {
   "cell_type": "markdown",
   "metadata": {},
   "source": [
    "# Problem 2: Framingham Heart Study"
   ]
  },
  {
   "cell_type": "code",
   "execution_count": 8,
   "metadata": {},
   "outputs": [],
   "source": [
    "import os\n",
    "from sklearn.model_selection import train_test_split\n",
    "import statsmodels.formula.api as smf"
   ]
  },
  {
   "cell_type": "code",
   "execution_count": 9,
   "metadata": {},
   "outputs": [],
   "source": [
    "train = pd.read_csv(\"framingham_train.csv\")\n",
    "test= pd.read_csv(\"framingham_test.csv\")\n"
   ]
  },
  {
   "cell_type": "code",
   "execution_count": 10,
   "metadata": {},
   "outputs": [
    {
     "data": {
      "text/html": [
       "<div>\n",
       "<style scoped>\n",
       "    .dataframe tbody tr th:only-of-type {\n",
       "        vertical-align: middle;\n",
       "    }\n",
       "\n",
       "    .dataframe tbody tr th {\n",
       "        vertical-align: top;\n",
       "    }\n",
       "\n",
       "    .dataframe thead th {\n",
       "        text-align: right;\n",
       "    }\n",
       "</style>\n",
       "<table border=\"1\" class=\"dataframe\">\n",
       "  <thead>\n",
       "    <tr style=\"text-align: right;\">\n",
       "      <th></th>\n",
       "      <th>male</th>\n",
       "      <th>age</th>\n",
       "      <th>education</th>\n",
       "      <th>currentSmoker</th>\n",
       "      <th>cigsPerDay</th>\n",
       "      <th>BPMeds</th>\n",
       "      <th>prevalentStroke</th>\n",
       "      <th>prevalentHyp</th>\n",
       "      <th>diabetes</th>\n",
       "      <th>totChol</th>\n",
       "      <th>sysBP</th>\n",
       "      <th>diaBP</th>\n",
       "      <th>BMI</th>\n",
       "      <th>heartRate</th>\n",
       "      <th>glucose</th>\n",
       "      <th>TenYearCHD</th>\n",
       "    </tr>\n",
       "  </thead>\n",
       "  <tbody>\n",
       "    <tr>\n",
       "      <th>0</th>\n",
       "      <td>0</td>\n",
       "      <td>46</td>\n",
       "      <td>High school/GED</td>\n",
       "      <td>0</td>\n",
       "      <td>0</td>\n",
       "      <td>0</td>\n",
       "      <td>0</td>\n",
       "      <td>0</td>\n",
       "      <td>0</td>\n",
       "      <td>225</td>\n",
       "      <td>116.0</td>\n",
       "      <td>79.0</td>\n",
       "      <td>29.21</td>\n",
       "      <td>60</td>\n",
       "      <td>70</td>\n",
       "      <td>0</td>\n",
       "    </tr>\n",
       "    <tr>\n",
       "      <th>1</th>\n",
       "      <td>0</td>\n",
       "      <td>37</td>\n",
       "      <td>Some college/vocational school</td>\n",
       "      <td>1</td>\n",
       "      <td>20</td>\n",
       "      <td>0</td>\n",
       "      <td>0</td>\n",
       "      <td>0</td>\n",
       "      <td>0</td>\n",
       "      <td>254</td>\n",
       "      <td>119.0</td>\n",
       "      <td>62.5</td>\n",
       "      <td>28.78</td>\n",
       "      <td>70</td>\n",
       "      <td>69</td>\n",
       "      <td>0</td>\n",
       "    </tr>\n",
       "    <tr>\n",
       "      <th>2</th>\n",
       "      <td>1</td>\n",
       "      <td>60</td>\n",
       "      <td>Some high school</td>\n",
       "      <td>0</td>\n",
       "      <td>0</td>\n",
       "      <td>0</td>\n",
       "      <td>0</td>\n",
       "      <td>1</td>\n",
       "      <td>0</td>\n",
       "      <td>270</td>\n",
       "      <td>145.0</td>\n",
       "      <td>81.0</td>\n",
       "      <td>29.37</td>\n",
       "      <td>75</td>\n",
       "      <td>73</td>\n",
       "      <td>0</td>\n",
       "    </tr>\n",
       "    <tr>\n",
       "      <th>3</th>\n",
       "      <td>0</td>\n",
       "      <td>66</td>\n",
       "      <td>Some high school</td>\n",
       "      <td>0</td>\n",
       "      <td>0</td>\n",
       "      <td>1</td>\n",
       "      <td>0</td>\n",
       "      <td>1</td>\n",
       "      <td>0</td>\n",
       "      <td>290</td>\n",
       "      <td>152.5</td>\n",
       "      <td>90.0</td>\n",
       "      <td>23.63</td>\n",
       "      <td>80</td>\n",
       "      <td>76</td>\n",
       "      <td>0</td>\n",
       "    </tr>\n",
       "    <tr>\n",
       "      <th>4</th>\n",
       "      <td>0</td>\n",
       "      <td>36</td>\n",
       "      <td>High school/GED</td>\n",
       "      <td>0</td>\n",
       "      <td>0</td>\n",
       "      <td>0</td>\n",
       "      <td>0</td>\n",
       "      <td>0</td>\n",
       "      <td>0</td>\n",
       "      <td>212</td>\n",
       "      <td>102.0</td>\n",
       "      <td>69.0</td>\n",
       "      <td>33.36</td>\n",
       "      <td>55</td>\n",
       "      <td>71</td>\n",
       "      <td>0</td>\n",
       "    </tr>\n",
       "  </tbody>\n",
       "</table>\n",
       "</div>"
      ],
      "text/plain": [
       "   male  age                       education  currentSmoker  cigsPerDay  \\\n",
       "0     0   46                 High school/GED              0           0   \n",
       "1     0   37  Some college/vocational school              1          20   \n",
       "2     1   60                Some high school              0           0   \n",
       "3     0   66                Some high school              0           0   \n",
       "4     0   36                 High school/GED              0           0   \n",
       "\n",
       "   BPMeds  prevalentStroke  prevalentHyp  diabetes  totChol  sysBP  diaBP  \\\n",
       "0       0                0             0         0      225  116.0   79.0   \n",
       "1       0                0             0         0      254  119.0   62.5   \n",
       "2       0                0             1         0      270  145.0   81.0   \n",
       "3       1                0             1         0      290  152.5   90.0   \n",
       "4       0                0             0         0      212  102.0   69.0   \n",
       "\n",
       "     BMI  heartRate  glucose  TenYearCHD  \n",
       "0  29.21         60       70           0  \n",
       "1  28.78         70       69           0  \n",
       "2  29.37         75       73           0  \n",
       "3  23.63         80       76           0  \n",
       "4  33.36         55       71           0  "
      ]
     },
     "execution_count": 10,
     "metadata": {},
     "output_type": "execute_result"
    }
   ],
   "source": [
    "train.head()"
   ]
  },
  {
   "cell_type": "code",
   "execution_count": 11,
   "metadata": {},
   "outputs": [
    {
     "name": "stdout",
     "output_type": "stream",
     "text": [
      "Optimization terminated successfully.\n",
      "         Current function value: 0.379082\n",
      "         Iterations 7\n",
      "                           Logit Regression Results                           \n",
      "==============================================================================\n",
      "Dep. Variable:             TenYearCHD   No. Observations:                 2560\n",
      "Model:                          Logit   Df Residuals:                     2542\n",
      "Method:                           MLE   Df Model:                           17\n",
      "Date:                Mon, 13 Mar 2023   Pseudo R-squ.:                  0.1145\n",
      "Time:                        11:11:42   Log-Likelihood:                -970.45\n",
      "converged:                       True   LL-Null:                       -1095.9\n",
      "Covariance Type:            nonrobust   LLR p-value:                 1.348e-43\n",
      "===============================================================================================================\n",
      "                                                  coef    std err          z      P>|z|      [0.025      0.975]\n",
      "---------------------------------------------------------------------------------------------------------------\n",
      "Intercept                                      -8.1905      0.840     -9.745      0.000      -9.838      -6.543\n",
      "education[T.High school/GED]                   -0.2268      0.218     -1.038      0.299      -0.655       0.201\n",
      "education[T.Some college/vocational school]    -0.0846      0.237     -0.357      0.721      -0.549       0.380\n",
      "education[T.Some high school]                   0.1564      0.199      0.787      0.431      -0.233       0.546\n",
      "male                                            0.4944      0.131      3.781      0.000       0.238       0.751\n",
      "age                                             0.0604      0.008      7.491      0.000       0.045       0.076\n",
      "currentSmoker                                   0.1114      0.190      0.586      0.558      -0.261       0.484\n",
      "cigsPerDay                                      0.0155      0.008      1.978      0.048       0.000       0.031\n",
      "BPMeds                                          0.2445      0.275      0.889      0.374      -0.294       0.783\n",
      "prevalentStroke                                 0.5335      0.561      0.950      0.342      -0.567       1.634\n",
      "prevalentHyp                                    0.2142      0.164      1.306      0.192      -0.107       0.536\n",
      "diabetes                                       -0.1670      0.366     -0.456      0.648      -0.885       0.551\n",
      "totChol                                         0.0019      0.001      1.399      0.162      -0.001       0.005\n",
      "sysBP                                           0.0139      0.004      3.187      0.001       0.005       0.023\n",
      "diaBP                                          -0.0034      0.008     -0.449      0.653      -0.018       0.011\n",
      "BMI                                             0.0122      0.015      0.819      0.413      -0.017       0.042\n",
      "heartRate                                      -0.0035      0.005     -0.709      0.478      -0.013       0.006\n",
      "glucose                                         0.0082      0.003      2.966      0.003       0.003       0.014\n",
      "===============================================================================================================\n"
     ]
    }
   ],
   "source": [
    "model1 = smf.logit(formula = 'TenYearCHD ~ male + age + education + currentSmoker + cigsPerDay + BPMeds + prevalentStroke + prevalentHyp + diabetes + totChol + sysBP + diaBP + BMI + heartRate + glucose',\n",
    "                       data = train).fit()\n",
    "print(model1.summary())"
   ]
  },
  {
   "cell_type": "markdown",
   "metadata": {},
   "source": [
    "### iv) Evaluating the test set peformance of our model based on p-bar = 28/255\n"
   ]
  },
  {
   "cell_type": "code",
   "execution_count": 12,
   "metadata": {},
   "outputs": [
    {
     "name": "stdout",
     "output_type": "stream",
     "text": [
      "Confusion Matrix : \n",
      " [[488 445]\n",
      " [ 32 133]]\n"
     ]
    }
   ],
   "source": [
    "y_test = test['TenYearCHD']\n",
    "y_prob = model1.predict(test)\n",
    "y_pred = pd.Series([1 if x > 28/255 else 0 for x in y_prob], index=y_prob.index)\n",
    "\n",
    "# Confusion matrix\n",
    "from sklearn.metrics import confusion_matrix\n",
    "cm = confusion_matrix(y_test, y_pred)\n",
    "print (\"Confusion Matrix : \\n\", cm) "
   ]
  },
  {
   "cell_type": "code",
   "execution_count": 31,
   "metadata": {},
   "outputs": [
    {
     "name": "stdout",
     "output_type": "stream",
     "text": [
      "Accuracy: 0.5655737704918032\n",
      "TPR: 0.806060606060606\n",
      "FPR: 0.4769560557341908\n"
     ]
    }
   ],
   "source": [
    "# Accuracy = (TN+TP)/N\n",
    "accuracy_model = (cm.ravel()[0]+cm.ravel()[3])/sum(cm.ravel())\n",
    "\n",
    "# TPR = TP/(TP+FN)\n",
    "tpr_model = (cm.ravel()[3]/(cm.ravel()[3]+cm.ravel()[2]))\n",
    "\n",
    "# FPR = FP/(TN+FP)\n",
    "fpr_model = (cm.ravel()[1]/(cm.ravel()[0]+cm.ravel()[1]))\n",
    "\n",
    "print('Accuracy:', accuracy_model)\n",
    "print('TPR:', tpr_model)\n",
    "print('FPR:', fpr_model)"
   ]
  },
  {
   "cell_type": "markdown",
   "metadata": {},
   "source": [
    "This model's accuracy indicates the percentage of individuals correctly classified as either experiencing or not experiencing CHD within the next 10 years. TPR represents the percentage of individuals correctly identified by our model as experiencing CHD within the next 10 years among those who actually experienced it. On the flip side, FPR represents the percentage of individuals correctly identified by our model as not experiencing CHD within the next 10 years among those who actually did not experience it."
   ]
  },
  {
   "cell_type": "markdown",
   "metadata": {},
   "source": [
    "### v) Estimating cost per patient"
   ]
  },
  {
   "cell_type": "markdown",
   "metadata": {},
   "source": [
    "### Cost per patient is given by: (in the case when outcomes are not affected by treatment decisions)\n",
    "#### Total Cost= $(820000 * TP) + (70000 * FP) + (750000 * FN) + (0 * TN)$\n",
    "               = (820000 * 133) + (70000 * 445) + (750000 * 32) + (0)\n",
    "              = 164210000$\n",
    "              \n",
    "#### Cost per patient = 164210000 / 1098\n",
    "                  = 149553.73 $/patient\n",
    "                 "
   ]
  },
  {
   "cell_type": "markdown",
   "metadata": {},
   "source": [
    "### Cost per patient is given by: (in the case when outcomes are affected by treatment decisions)\n",
    "To account for the probability in our test set, we multiply $0.85*TP = 0.85*133 = 113.05 = 113$ patients who would have received the medication and would have not experienced CHD into our false positive (FP) count.\n",
    "#### Total Cost= $(820000 * TP) + (70000 * FP) + (750000 * FN) + (0 * TN)$\n",
    "              = (820000 * 20) + (70000 * 458) + (750000 * 32) + (0)\n",
    "              = 72460000 $\n",
    "              \n",
    "#### Cost per patient = 72460000 / 1098\n",
    "                  = 65922.714 $/patient"
   ]
  },
  {
   "cell_type": "markdown",
   "metadata": {},
   "source": [
    "### vi) Test set performance of the baseline model in terms of accuracy, TPR, and FPR, as well as expected economic cost per patient"
   ]
  },
  {
   "cell_type": "code",
   "execution_count": 32,
   "metadata": {},
   "outputs": [
    {
     "name": "stdout",
     "output_type": "stream",
     "text": [
      "Accuracy: 0.8497267759562842\n",
      "TPR: 0.0\n",
      "FPR: 0.0\n"
     ]
    }
   ],
   "source": [
    "# Accuracy = # correct / total number (Lab 3)\n",
    "defaultfalsetest = np.sum(test['TenYearCHD'] == 0)\n",
    "defaulttruetest = np.sum(test['TenYearCHD'] == 1)\n",
    "accuracybaseline = defaultfalsetest/(defaultfalsetest+defaulttruetest)\n",
    "\n",
    "# TPR\n",
    "tpr_baseline = 0 / (0 + defaulttruetest)\n",
    "\n",
    "# FPR\n",
    "fpr_baseline = 0 / (0 + defaultfalsetest)\n",
    "\n",
    "print('Accuracy:', accuracybaseline)\n",
    "print('TPR:', tpr_baseline)\n",
    "print('FPR:', fpr_baseline)"
   ]
  },
  {
   "cell_type": "code",
   "execution_count": 33,
   "metadata": {},
   "outputs": [
    {
     "data": {
      "text/plain": [
       "(933, 165)"
      ]
     },
     "execution_count": 33,
     "metadata": {},
     "output_type": "execute_result"
    }
   ],
   "source": [
    "defaultfalsetest, defaulttruetest"
   ]
  },
  {
   "cell_type": "markdown",
   "metadata": {},
   "source": [
    "### Expected cost per patient"
   ]
  },
  {
   "cell_type": "markdown",
   "metadata": {},
   "source": [
    "Calculating the expected cost per patient of our baseline model is as follows:\n",
    "Total cost = 750000 * FN = 750000 * 165 = 123750000 $\n",
    "\n",
    "<br> Cost per patient = 123750000/1098 = 112704.91 $/patient"
   ]
  },
  {
   "cell_type": "markdown",
   "metadata": {},
   "source": [
    "Accuracy of the baseline model is fairly high because we predict all individuals to not experience CHD, and, in reality, only a few individuals ended up experiencing CHD. \n",
    "TPR and FPR are equal to zero because our model does not predict any individual to develop CHD, meaning there are no TPs or FPs.\n",
    "The cost per patient comes entirely from the 750,000$ incurred due to the FNs. "
   ]
  },
  {
   "cell_type": "markdown",
   "metadata": {},
   "source": [
    "### vii) Predicting using given parameters"
   ]
  },
  {
   "cell_type": "code",
   "execution_count": 34,
   "metadata": {},
   "outputs": [
    {
     "name": "stdout",
     "output_type": "stream",
     "text": [
      "Predicted probability of experiencing CHD in the next 10 years: 0.11794319302215646\n"
     ]
    }
   ],
   "source": [
    "given = pd.DataFrame(data = {'male' : [0], 'age' : [40], 'education' : ['High school/GED'], 'currentSmoker' : [0], \n",
    "                               'cigsPerDay' : [0], 'BPMeds' : [1], 'prevalentStroke' : [1], 'prevalentHyp' : [1], \n",
    "                               'diabetes' : [0], 'totChol' : [310], 'sysBP' : [130], 'diaBP' : [95], 'BMI' : [31.5], \n",
    "                               'heartRate' : [74], 'glucose' : [95]})\n",
    "\n",
    "print('Predicted probability of experiencing CHD in the next 10 years:', model1.predict(given)[0])"
   ]
  },
  {
   "cell_type": "markdown",
   "metadata": {},
   "source": [
    "#### Based on our threshold value of p-bar = 0.109, this person should be prescribed the medication as predicted probability = 0.117 > p-bar=0.109"
   ]
  },
  {
   "cell_type": "markdown",
   "metadata": {},
   "source": [
    "### b) ROC and AUC"
   ]
  },
  {
   "cell_type": "code",
   "execution_count": 35,
   "metadata": {},
   "outputs": [],
   "source": [
    "from sklearn.metrics import roc_curve, auc"
   ]
  },
  {
   "cell_type": "code",
   "execution_count": 36,
   "metadata": {},
   "outputs": [
    {
     "data": {
      "image/png": "[encoded data removed]",
      "text/plain": [
       "<Figure size 576x432 with 1 Axes>"
      ]
     },
     "metadata": {
      "needs_background": "light"
     },
     "output_type": "display_data"
    }
   ],
   "source": [
    "# Inspired by Lab 4\n",
    "fpr, tpr, _ = roc_curve(y_test, y_prob)\n",
    "roc_auc = auc(fpr, tpr)\n",
    "\n",
    "plt.figure(figsize=(8, 6))\n",
    "plt.title('ROC Curve', fontsize=20)\n",
    "plt.xlabel('FPR', fontsize=18)\n",
    "plt.ylabel('TPR', fontsize=18)\n",
    "plt.xlim([-0.01, 1.00])\n",
    "plt.ylim([-0.01, 1.01])\n",
    "plt.plot(fpr, tpr, lw=3, label='LogReg (area = {:0.2f})'.format(roc_auc))\n",
    "plt.plot([0, 1], [0, 1], color='green', lw=3, linestyle='--', label='Baseline (area = 0.50)')\n",
    "plt.legend(loc='lower right', fontsize=16)\n",
    "plt.show()"
   ]
  },
  {
   "cell_type": "code",
   "execution_count": 37,
   "metadata": {},
   "outputs": [
    {
     "name": "stdout",
     "output_type": "stream",
     "text": [
      "AUC of the above = 0.7437851180616454\n"
     ]
    }
   ],
   "source": [
    "print('AUC of the above =', roc_auc)"
   ]
  },
  {
   "cell_type": "markdown",
   "metadata": {},
   "source": [
    "#### Answer)\n",
    "<br>\n",
    "The ROC curves show the trade-off between the TPR and FPR as we vary our threshold value p-bar. I don't think our ROC curve is that good since we would want a simultaneously high TPR and low FPR, which refers to the top left region of the above graph but our curve does not reach there.  \n",
    "\n",
    "The curve could provide decision-makers with valuable insights into the effectiveness of the predictor variables used in the current model. It could aid in their ongoing research on medication for CHD by guiding them on how to improve the current model or explore new medication forms. A more effective model could be developed by using the significant predictors from this model along with new features, and a more effective medication could be aimed at treating the symptoms of these significant predictors. Moreover, decision-makers could use the AUC to evaluate the effectiveness of a new medication, as it indicates the model's discriminative ability. A higher AUC value would indicate a better medication.\n",
    "\n",
    "AUC of our logistic regression model (=0.7437) is only slightly better than the AUC of the baseline model (=0.50). With a likelihood equal to 0.50, our baseline model is basically tossing a fair coin.  This is fascinating because even though the logreg model is much more complex, the AUC it yields could still be imporved upon and is not leaps and bounds better than the baseline. "
   ]
  },
  {
   "cell_type": "markdown",
   "metadata": {},
   "source": [
    "#### c) Handwritten attached."
   ]
  },
  {
   "cell_type": "markdown",
   "metadata": {},
   "source": [
    "#### d) Ethical Concerns: \n",
    "<br>\n",
    "When I was reading more about the Framingham heart study, I quickly realised that due to the study being focused on a small and homogenous town (primarily white participants), the results of such a model could not be generalised to meet a much more diverse population. Since an overwhelming majority of the participants were White, the study does not have a large enough sample size to make strong claims about the probability of CHD amongst people of other races. We also don't know the selection criteria of the participants. This could be indicative of an even greater bias towards White participants. Thus, the set-up of the study prevents it from making any strong claims about minorities. If I was to re-do the study today, I would make sure that the target town I pick has a good balance of different racial background to ensure racial diversity. In doing so, I would be able to create a model that can generalise well to the greater population. "
   ]
  },
  {
   "cell_type": "code",
   "execution_count": null,
   "metadata": {},
   "outputs": [],
   "source": []
  },
  {
   "cell_type": "code",
   "execution_count": null,
   "metadata": {},
   "outputs": [],
   "source": []
  }
 ],
 "metadata": {
  "kernelspec": {
   "display_name": "Python 3",
   "language": "python",
   "name": "python3"
  },
  "language_info": {
   "codemirror_mode": {
    "name": "ipython",
    "version": 3
   },
   "file_extension": ".py",
   "mimetype": "text/x-python",
   "name": "python",
   "nbconvert_exporter": "python",
   "pygments_lexer": "ipython3",
   "version": "3.8.3"
  }
 },
 "nbformat": 4,
 "nbformat_minor": 4
}
