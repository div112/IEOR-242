{
 "cells": [
  {
   "cell_type": "code",
   "execution_count": 6,
   "metadata": {
    "id": "1QYqL7lvuvmK"
   },
   "outputs": [],
   "source": [
    "import os\n",
    "import numpy as np\n",
    "import pandas as pd\n",
    "from bs4 import BeautifulSoup\n",
    "import matplotlib.pyplot as plt"
   ]
  },
  {
   "cell_type": "markdown",
   "metadata": {
    "id": "awc_PHjUuvmR"
   },
   "source": [
    "## Q. Changing HTML Text to Plain Text\n",
    "\n",
    "The Python library <b>BeautifulSoup</b> is useful for dealing with html text. In order to use this library, you will need to install it first by running the following command: \n",
    " <b>conda install beautifulsoup4</b> \n",
    " in the terminal.\n",
    " <br> In the code, you can import it by running the following line: \n",
    "<br> \n",
    "  <b>from bs4 import BeautifulSoup </b>\n",
    "<br>"
   ]
  },
  {
   "cell_type": "code",
   "execution_count": 7,
   "metadata": {
    "id": "JaHFZFOuuvmU"
   },
   "outputs": [],
   "source": [
    "  #Read our data file\n",
    "\n",
    "df_train = pd.read_csv(\"stack_stats_2023_train.csv\") #Todo\n",
    "df_test = pd.read_csv(\"stack_stats_2023_test.csv\") #Todo"
   ]
  },
  {
   "cell_type": "code",
   "execution_count": 8,
   "metadata": {},
   "outputs": [
    {
     "data": {
      "text/html": [
       "<div>\n",
       "<style scoped>\n",
       "    .dataframe tbody tr th:only-of-type {\n",
       "        vertical-align: middle;\n",
       "    }\n",
       "\n",
       "    .dataframe tbody tr th {\n",
       "        vertical-align: top;\n",
       "    }\n",
       "\n",
       "    .dataframe thead th {\n",
       "        text-align: right;\n",
       "    }\n",
       "</style>\n",
       "<table border=\"1\" class=\"dataframe\">\n",
       "  <thead>\n",
       "    <tr style=\"text-align: right;\">\n",
       "      <th></th>\n",
       "      <th>Id</th>\n",
       "      <th>Score</th>\n",
       "      <th>Body</th>\n",
       "      <th>Title</th>\n",
       "      <th>Tags</th>\n",
       "    </tr>\n",
       "  </thead>\n",
       "  <tbody>\n",
       "    <tr>\n",
       "      <th>0</th>\n",
       "      <td>502641</td>\n",
       "      <td>1</td>\n",
       "      <td>&lt;p&gt;I'm a master's student in EECS working my w...</td>\n",
       "      <td>Why does the PyTorch tutorial on DQN define st...</td>\n",
       "      <td>&lt;machine-learning&gt;&lt;reinforcement-learning&gt;&lt;q-l...</td>\n",
       "    </tr>\n",
       "    <tr>\n",
       "      <th>1</th>\n",
       "      <td>477291</td>\n",
       "      <td>1</td>\n",
       "      <td>&lt;p&gt;I do not know if this is a good question, b...</td>\n",
       "      <td>Does random walking have a memory?</td>\n",
       "      <td>&lt;probability&gt;&lt;law-of-large-numbers&gt;</td>\n",
       "    </tr>\n",
       "    <tr>\n",
       "      <th>2</th>\n",
       "      <td>448489</td>\n",
       "      <td>4</td>\n",
       "      <td>&lt;p&gt;I am doing 10 times repeated 10-fold cross-...</td>\n",
       "      <td>Which statistic to report for repeated cross-v...</td>\n",
       "      <td>&lt;cross-validation&gt;</td>\n",
       "    </tr>\n",
       "    <tr>\n",
       "      <th>3</th>\n",
       "      <td>487075</td>\n",
       "      <td>0</td>\n",
       "      <td>&lt;p&gt;I have a dataset with 1MM records, around 4...</td>\n",
       "      <td>Binary classification on imbalanced data - odd...</td>\n",
       "      <td>&lt;unbalanced-classes&gt;&lt;calibration&gt;</td>\n",
       "    </tr>\n",
       "    <tr>\n",
       "      <th>4</th>\n",
       "      <td>481670</td>\n",
       "      <td>2</td>\n",
       "      <td>&lt;p&gt;I want to run a regression where one of the...</td>\n",
       "      <td>How to best summarize Likert data (to use as a...</td>\n",
       "      <td>&lt;multiple-regression&gt;&lt;missing-data&gt;&lt;likert&gt;&lt;it...</td>\n",
       "    </tr>\n",
       "  </tbody>\n",
       "</table>\n",
       "</div>"
      ],
      "text/plain": [
       "       Id  Score                                               Body  \\\n",
       "0  502641      1  <p>I'm a master's student in EECS working my w...   \n",
       "1  477291      1  <p>I do not know if this is a good question, b...   \n",
       "2  448489      4  <p>I am doing 10 times repeated 10-fold cross-...   \n",
       "3  487075      0  <p>I have a dataset with 1MM records, around 4...   \n",
       "4  481670      2  <p>I want to run a regression where one of the...   \n",
       "\n",
       "                                               Title  \\\n",
       "0  Why does the PyTorch tutorial on DQN define st...   \n",
       "1                 Does random walking have a memory?   \n",
       "2  Which statistic to report for repeated cross-v...   \n",
       "3  Binary classification on imbalanced data - odd...   \n",
       "4  How to best summarize Likert data (to use as a...   \n",
       "\n",
       "                                                Tags  \n",
       "0  <machine-learning><reinforcement-learning><q-l...  \n",
       "1                <probability><law-of-large-numbers>  \n",
       "2                                 <cross-validation>  \n",
       "3                  <unbalanced-classes><calibration>  \n",
       "4  <multiple-regression><missing-data><likert><it...  "
      ]
     },
     "execution_count": 8,
     "metadata": {},
     "output_type": "execute_result"
    }
   ],
   "source": [
    "df_train.head()"
   ]
  },
  {
   "cell_type": "code",
   "execution_count": 9,
   "metadata": {},
   "outputs": [
    {
     "data": {
      "text/plain": [
       "0        <machine-learning><reinforcement-learning><q-l...\n",
       "1                      <probability><law-of-large-numbers>\n",
       "2                                       <cross-validation>\n",
       "3                        <unbalanced-classes><calibration>\n",
       "4        <multiple-regression><missing-data><likert><it...\n",
       "                               ...                        \n",
       "19242    <machine-learning><data-imputation><recommende...\n",
       "19243    <regression><modeling><measurement-error><erro...\n",
       "19244                               <poisson-distribution>\n",
       "19245    <machine-learning><mathematical-statistics><cu...\n",
       "19246                                  <r><bioinformatics>\n",
       "Name: Tags, Length: 19247, dtype: object"
      ]
     },
     "execution_count": 9,
     "metadata": {},
     "output_type": "execute_result"
    }
   ],
   "source": [
    "df_train['Tags']"
   ]
  },
  {
   "cell_type": "code",
   "execution_count": 16,
   "metadata": {
    "id": "jzyC4JZpuvmW"
   },
   "outputs": [],
   "source": [
    "#Cleaning 'Body'\n",
    "#Change HTML Text to Plain text using get_text() function from BeautifulSoup\n",
    "#If you are not familiar with the apply method, please check discussion week 10 lecture and code.\n",
    "\n",
    "df_train['Body'] = df_train['Body'].apply(lambda x: BeautifulSoup(x, \"html.parser\").get_text()) #Todo\n",
    "#Manually cleaned up newline tag \\n and tab tag \\t.\n",
    "df_train['Body'] = df_train['Body'].apply(lambda x: x.replace('\\n', ' ')) #Todo\n",
    "df_train['Body'] = df_train['Body'].apply(lambda x: x.replace('\\t', ' ')) #Todo\n",
    "#Cleaning Tags\n",
    "#This would be somewhat similar to the above.\n",
    "#Todo: Clean Tags, please feel free to add any lines below\n",
    "df_train['Tags'] = df_train['Tags'].apply(lambda x: x.replace('>', \" \"))\n",
    "df_train['Tags'] = df_train['Tags'].apply(lambda x: x.replace('<', \" \"))\n",
    "#Repeat same for test dataset\n",
    "df_test['Body'] = df_test['Body'].apply(lambda x: BeautifulSoup(x, \"html.parser\").get_text())\n",
    "#Manually cleaned up newline tag \\n and tab tag \\t.\n",
    "df_test['Body'] = df_test['Body'].apply(lambda x: x.replace('\\n', ' ')) #Todo\n",
    "df_test['Body'] = df_test['Body'].apply(lambda x: x.replace('\\t', ' ')) #Todo\n",
    "df_test['Tags'] = df_test['Tags'].apply(lambda x: x.replace('>', \" \"))\n",
    "df_test['Tags'] = df_test['Tags'].apply(lambda x: x.replace('<', \" \"))\n",
    "                                        \n"
   ]
  },
  {
   "cell_type": "markdown",
   "metadata": {
    "id": "mNS-3DkCuvmb"
   },
   "source": [
    "## Q. Basic Text Cleaning and Merging into a single Text data"
   ]
  },
  {
   "cell_type": "markdown",
   "metadata": {
    "id": "031sBi5Duvmc"
   },
   "source": [
    "### Change to Lower Case, Remove puncuation, digits, "
   ]
  },
  {
   "cell_type": "code",
   "execution_count": 19,
   "metadata": {
    "id": "t-YUYKlvuvmd"
   },
   "outputs": [],
   "source": [
    "#Change to Lowercase\n",
    "\n",
    "df_train[['Body','Title','Tags']] = df_train[['Body','Title','Tags']].applymap(str.lower) #Todo, do you see why we used applymap instead of apply in this case? \n",
    "df_test[['Body','Title','Tags']] = df_test[['Body','Title','Tags']].applymap(str.lower) #Todo"
   ]
  },
  {
   "cell_type": "code",
   "execution_count": 21,
   "metadata": {
    "id": "Bbcp_w_wuvme"
   },
   "outputs": [],
   "source": [
    "#Remove Punctations \n",
    "from string import punctuation\n",
    "\n",
    "#You can get this function from our discussion session code. However, we leave it as a blank for a practice.\n",
    "def remove_punctuation(document):\n",
    "\n",
    "    no_punct = \"\".join([char for char in document if char not in punctuation])\n",
    "    \n",
    "    return no_punct\n",
    "\n",
    "df_train[['Body','Title','Tags']] = df_train[['Body','Title','Tags']].applymap(remove_punctuation)\n",
    "df_test[['Body','Title','Tags']] = df_test[['Body','Title','Tags']].applymap(remove_punctuation)"
   ]
  },
  {
   "cell_type": "code",
   "execution_count": 22,
   "metadata": {
    "id": "yNUiymSJuvmh"
   },
   "outputs": [],
   "source": [
    "#Remove Digits \n",
    "\n",
    "def remove_digit(document): \n",
    "    \n",
    "    no_digit = \"\".join([char for char in document if not char.isdigit()])\n",
    "              \n",
    "    return no_digit\n",
    "\n",
    "df_train[['Body','Title','Tags']] = df_train[['Body','Title','Tags']].applymap(remove_digit)\n",
    "df_test[['Body','Title','Tags']] = df_test[['Body','Title','Tags']].applymap(remove_digit) "
   ]
  },
  {
   "cell_type": "markdown",
   "metadata": {
    "id": "PAsCQQPQuvmi"
   },
   "source": [
    "### Tokenization and Remove Stopwords and do stemming"
   ]
  },
  {
   "cell_type": "code",
   "execution_count": 23,
   "metadata": {
    "colab": {
     "base_uri": "https://localhost:8080/"
    },
    "executionInfo": {
     "elapsed": 25821,
     "status": "ok",
     "timestamp": 1668123057199,
     "user": {
      "displayName": "Hyungki Im",
      "userId": "11059091126270115149"
     },
     "user_tz": 480
    },
    "id": "gOrVZxXQuvmj",
    "outputId": "07dd90e0-e5ca-4634-f43f-f379fe3a0787"
   },
   "outputs": [
    {
     "name": "stderr",
     "output_type": "stream",
     "text": [
      "[nltk_data] Downloading package punkt to\n",
      "[nltk_data]     /Users/divsaksena/nltk_data...\n",
      "[nltk_data]   Package punkt is already up-to-date!\n"
     ]
    }
   ],
   "source": [
    "from nltk.tokenize import word_tokenize\n",
    "import nltk\n",
    "nltk.download('punkt')\n",
    "df_train[['Body','Title','Tags']] = df_train[['Body','Title','Tags']].applymap(word_tokenize)\n",
    "df_test[['Body','Title','Tags']] = df_test[['Body','Title','Tags']].applymap(word_tokenize)"
   ]
  },
  {
   "cell_type": "code",
   "execution_count": 24,
   "metadata": {
    "colab": {
     "base_uri": "https://localhost:8080/"
    },
    "executionInfo": {
     "elapsed": 2684,
     "status": "ok",
     "timestamp": 1668123197885,
     "user": {
      "displayName": "Hyungki Im",
      "userId": "11059091126270115149"
     },
     "user_tz": 480
    },
    "id": "82DJNdV1uvmj",
    "outputId": "8f8148ae-7551-43fc-d3d3-2bc8d8202d15"
   },
   "outputs": [
    {
     "name": "stderr",
     "output_type": "stream",
     "text": [
      "[nltk_data] Downloading package stopwords to\n",
      "[nltk_data]     /Users/divsaksena/nltk_data...\n",
      "[nltk_data]   Package stopwords is already up-to-date!\n"
     ]
    }
   ],
   "source": [
    "#Remove Stopwords\n",
    "\n",
    "from nltk.corpus import stopwords\n",
    "nltk.download('stopwords')\n",
    "stop_words = set(stopwords.words('english'))\n",
    "\n",
    "def remove_stopwords(document):\n",
    "    \n",
    "    words = [word for word in document if not word in stop_words]\n",
    "    \n",
    "    return words\n",
    "\n",
    "df_train[['Body','Title','Tags']] = df_train[['Body','Title','Tags']].applymap(remove_stopwords)\n",
    "df_test[['Body','Title','Tags']] = df_test[['Body','Title','Tags']].applymap(remove_stopwords)"
   ]
  },
  {
   "cell_type": "code",
   "execution_count": 25,
   "metadata": {
    "id": "54S-irnRuvmk"
   },
   "outputs": [],
   "source": [
    "#We use porter stemming \n",
    "\n",
    "from nltk.stem import PorterStemmer\n",
    "\n",
    "porter = PorterStemmer()\n",
    "\n",
    "def stemmer(document):\n",
    "    \n",
    "    stemmed_document = [porter.stem(w) for w in document]\n",
    "    \n",
    "    return stemmed_document\n",
    "\n",
    "df_train[['Body','Title','Tags']] = df_train[['Body','Title','Tags']].applymap(stemmer)\n",
    "df_test[['Body','Title','Tags']] = df_test[['Body','Title','Tags']].applymap(stemmer)\n"
   ]
  },
  {
   "cell_type": "markdown",
   "metadata": {
    "id": "P2sfBcaMLTok"
   },
   "source": [
    "## Let's Check our dataframe"
   ]
  },
  {
   "cell_type": "code",
   "execution_count": 26,
   "metadata": {
    "id": "r6V33S7pLS76"
   },
   "outputs": [
    {
     "data": {
      "text/html": [
       "<div>\n",
       "<style scoped>\n",
       "    .dataframe tbody tr th:only-of-type {\n",
       "        vertical-align: middle;\n",
       "    }\n",
       "\n",
       "    .dataframe tbody tr th {\n",
       "        vertical-align: top;\n",
       "    }\n",
       "\n",
       "    .dataframe thead th {\n",
       "        text-align: right;\n",
       "    }\n",
       "</style>\n",
       "<table border=\"1\" class=\"dataframe\">\n",
       "  <thead>\n",
       "    <tr style=\"text-align: right;\">\n",
       "      <th></th>\n",
       "      <th>Id</th>\n",
       "      <th>Score</th>\n",
       "      <th>Body</th>\n",
       "      <th>Title</th>\n",
       "      <th>Tags</th>\n",
       "    </tr>\n",
       "  </thead>\n",
       "  <tbody>\n",
       "    <tr>\n",
       "      <th>0</th>\n",
       "      <td>502641</td>\n",
       "      <td>1</td>\n",
       "      <td>[im, master, student, eec, work, way, toward, ...</td>\n",
       "      <td>[pytorch, tutori, dqn, defin, state, differ]</td>\n",
       "      <td>[machinelearn, reinforcementlearn, qlearn]</td>\n",
       "    </tr>\n",
       "    <tr>\n",
       "      <th>1</th>\n",
       "      <td>477291</td>\n",
       "      <td>1</td>\n",
       "      <td>[know, good, question, found, answer, anywher,...</td>\n",
       "      <td>[random, walk, memori]</td>\n",
       "      <td>[probabl, lawoflargenumb]</td>\n",
       "    </tr>\n",
       "    <tr>\n",
       "      <th>2</th>\n",
       "      <td>448489</td>\n",
       "      <td>4</td>\n",
       "      <td>[time, repeat, fold, crossvalid, want, report,...</td>\n",
       "      <td>[statist, report, repeat, crossvalid]</td>\n",
       "      <td>[crossvalid]</td>\n",
       "    </tr>\n",
       "    <tr>\n",
       "      <th>3</th>\n",
       "      <td>487075</td>\n",
       "      <td>0</td>\n",
       "      <td>[dataset, mm, record, around, featur, class, i...</td>\n",
       "      <td>[binari, classif, imbalanc, data, odd, calibr,...</td>\n",
       "      <td>[unbalancedclass, calibr]</td>\n",
       "    </tr>\n",
       "    <tr>\n",
       "      <th>4</th>\n",
       "      <td>481670</td>\n",
       "      <td>2</td>\n",
       "      <td>[want, run, regress, one, explanatori, variabl...</td>\n",
       "      <td>[best, summar, likert, data, use, independ, va...</td>\n",
       "      <td>[multipleregress, missingdata, likert, itemres...</td>\n",
       "    </tr>\n",
       "  </tbody>\n",
       "</table>\n",
       "</div>"
      ],
      "text/plain": [
       "       Id  Score                                               Body  \\\n",
       "0  502641      1  [im, master, student, eec, work, way, toward, ...   \n",
       "1  477291      1  [know, good, question, found, answer, anywher,...   \n",
       "2  448489      4  [time, repeat, fold, crossvalid, want, report,...   \n",
       "3  487075      0  [dataset, mm, record, around, featur, class, i...   \n",
       "4  481670      2  [want, run, regress, one, explanatori, variabl...   \n",
       "\n",
       "                                               Title  \\\n",
       "0       [pytorch, tutori, dqn, defin, state, differ]   \n",
       "1                             [random, walk, memori]   \n",
       "2              [statist, report, repeat, crossvalid]   \n",
       "3  [binari, classif, imbalanc, data, odd, calibr,...   \n",
       "4  [best, summar, likert, data, use, independ, va...   \n",
       "\n",
       "                                                Tags  \n",
       "0         [machinelearn, reinforcementlearn, qlearn]  \n",
       "1                          [probabl, lawoflargenumb]  \n",
       "2                                       [crossvalid]  \n",
       "3                          [unbalancedclass, calibr]  \n",
       "4  [multipleregress, missingdata, likert, itemres...  "
      ]
     },
     "execution_count": 26,
     "metadata": {},
     "output_type": "execute_result"
    }
   ],
   "source": [
    "df_train.head(5)"
   ]
  },
  {
   "cell_type": "markdown",
   "metadata": {
    "id": "hFgV2VL0uvml"
   },
   "source": [
    "### Q. Treat Three text data independently and merge into one column"
   ]
  },
  {
   "cell_type": "code",
   "execution_count": 27,
   "metadata": {
    "id": "VCB-voc_uvmm"
   },
   "outputs": [],
   "source": [
    "#Treat Three types of data independently\n",
    "#let's define functions that will help this operation\n",
    "\n",
    "def add_body(document):\n",
    "    \n",
    "    added_document = [w + \"_body\" for w in document]\n",
    "    \n",
    "    return added_document\n",
    "\n",
    "def add_title(document):\n",
    "    \n",
    "    added_document = [w + \"_title\" for w in document]\n",
    "    \n",
    "    return added_document\n",
    "\n",
    "def add_tags(document):\n",
    "    \n",
    "    added_document = [w + \"_tags\" for w in document]\n",
    "    \n",
    "    return added_document"
   ]
  },
  {
   "cell_type": "code",
   "execution_count": 28,
   "metadata": {
    "id": "UWy0BGVHuvmm"
   },
   "outputs": [],
   "source": [
    "df_train['Body'] = df_train['Body'].apply(add_body)\n",
    "df_train['Title'] = df_train['Title'].apply(add_title)\n",
    "df_train['Tags'] = df_train['Tags'].apply(add_tags)\n",
    "\n",
    "df_test['Body'] = df_test['Body'].apply(add_body)\n",
    "df_test['Title'] = df_test['Title'].apply(add_title)\n",
    "df_test['Tags'] = df_test['Tags'].apply(add_tags)"
   ]
  },
  {
   "cell_type": "code",
   "execution_count": 30,
   "metadata": {
    "id": "kgcE1Vcnuvmn"
   },
   "outputs": [],
   "source": [
    "#Now we need to merge all those 3 columns into a single column. Implement this below.\n",
    "df_train['text'] = df_train['Body'] + df_train['Title']+ df_train['Tags']\n",
    "df_test['text'] = df_test['Body'] + df_test['Title'] + df_test['Tags']"
   ]
  },
  {
   "cell_type": "markdown",
   "metadata": {
    "id": "Hq2PYhnmLhDi"
   },
   "source": [
    "## Let's check our DataFrame"
   ]
  },
  {
   "cell_type": "code",
   "execution_count": 31,
   "metadata": {
    "id": "rtYP_Lu3LjIb"
   },
   "outputs": [
    {
     "data": {
      "text/html": [
       "<div>\n",
       "<style scoped>\n",
       "    .dataframe tbody tr th:only-of-type {\n",
       "        vertical-align: middle;\n",
       "    }\n",
       "\n",
       "    .dataframe tbody tr th {\n",
       "        vertical-align: top;\n",
       "    }\n",
       "\n",
       "    .dataframe thead th {\n",
       "        text-align: right;\n",
       "    }\n",
       "</style>\n",
       "<table border=\"1\" class=\"dataframe\">\n",
       "  <thead>\n",
       "    <tr style=\"text-align: right;\">\n",
       "      <th></th>\n",
       "      <th>Id</th>\n",
       "      <th>Score</th>\n",
       "      <th>Body</th>\n",
       "      <th>Title</th>\n",
       "      <th>Tags</th>\n",
       "      <th>text</th>\n",
       "    </tr>\n",
       "  </thead>\n",
       "  <tbody>\n",
       "    <tr>\n",
       "      <th>0</th>\n",
       "      <td>502641</td>\n",
       "      <td>1</td>\n",
       "      <td>[im_body, master_body, student_body, eec_body,...</td>\n",
       "      <td>[pytorch_title, tutori_title, dqn_title, defin...</td>\n",
       "      <td>[machinelearn_tags, reinforcementlearn_tags, q...</td>\n",
       "      <td>[im_body, master_body, student_body, eec_body,...</td>\n",
       "    </tr>\n",
       "    <tr>\n",
       "      <th>1</th>\n",
       "      <td>477291</td>\n",
       "      <td>1</td>\n",
       "      <td>[know_body, good_body, question_body, found_bo...</td>\n",
       "      <td>[random_title, walk_title, memori_title]</td>\n",
       "      <td>[probabl_tags, lawoflargenumb_tags]</td>\n",
       "      <td>[know_body, good_body, question_body, found_bo...</td>\n",
       "    </tr>\n",
       "    <tr>\n",
       "      <th>2</th>\n",
       "      <td>448489</td>\n",
       "      <td>4</td>\n",
       "      <td>[time_body, repeat_body, fold_body, crossvalid...</td>\n",
       "      <td>[statist_title, report_title, repeat_title, cr...</td>\n",
       "      <td>[crossvalid_tags]</td>\n",
       "      <td>[time_body, repeat_body, fold_body, crossvalid...</td>\n",
       "    </tr>\n",
       "    <tr>\n",
       "      <th>3</th>\n",
       "      <td>487075</td>\n",
       "      <td>0</td>\n",
       "      <td>[dataset_body, mm_body, record_body, around_bo...</td>\n",
       "      <td>[binari_title, classif_title, imbalanc_title, ...</td>\n",
       "      <td>[unbalancedclass_tags, calibr_tags]</td>\n",
       "      <td>[dataset_body, mm_body, record_body, around_bo...</td>\n",
       "    </tr>\n",
       "    <tr>\n",
       "      <th>4</th>\n",
       "      <td>481670</td>\n",
       "      <td>2</td>\n",
       "      <td>[want_body, run_body, regress_body, one_body, ...</td>\n",
       "      <td>[best_title, summar_title, likert_title, data_...</td>\n",
       "      <td>[multipleregress_tags, missingdata_tags, liker...</td>\n",
       "      <td>[want_body, run_body, regress_body, one_body, ...</td>\n",
       "    </tr>\n",
       "  </tbody>\n",
       "</table>\n",
       "</div>"
      ],
      "text/plain": [
       "       Id  Score                                               Body  \\\n",
       "0  502641      1  [im_body, master_body, student_body, eec_body,...   \n",
       "1  477291      1  [know_body, good_body, question_body, found_bo...   \n",
       "2  448489      4  [time_body, repeat_body, fold_body, crossvalid...   \n",
       "3  487075      0  [dataset_body, mm_body, record_body, around_bo...   \n",
       "4  481670      2  [want_body, run_body, regress_body, one_body, ...   \n",
       "\n",
       "                                               Title  \\\n",
       "0  [pytorch_title, tutori_title, dqn_title, defin...   \n",
       "1           [random_title, walk_title, memori_title]   \n",
       "2  [statist_title, report_title, repeat_title, cr...   \n",
       "3  [binari_title, classif_title, imbalanc_title, ...   \n",
       "4  [best_title, summar_title, likert_title, data_...   \n",
       "\n",
       "                                                Tags  \\\n",
       "0  [machinelearn_tags, reinforcementlearn_tags, q...   \n",
       "1                [probabl_tags, lawoflargenumb_tags]   \n",
       "2                                  [crossvalid_tags]   \n",
       "3                [unbalancedclass_tags, calibr_tags]   \n",
       "4  [multipleregress_tags, missingdata_tags, liker...   \n",
       "\n",
       "                                                text  \n",
       "0  [im_body, master_body, student_body, eec_body,...  \n",
       "1  [know_body, good_body, question_body, found_bo...  \n",
       "2  [time_body, repeat_body, fold_body, crossvalid...  \n",
       "3  [dataset_body, mm_body, record_body, around_bo...  \n",
       "4  [want_body, run_body, regress_body, one_body, ...  "
      ]
     },
     "execution_count": 31,
     "metadata": {},
     "output_type": "execute_result"
    }
   ],
   "source": [
    "df_train.head(5)"
   ]
  },
  {
   "cell_type": "markdown",
   "metadata": {
    "id": "4esXb6WGuvmo"
   },
   "source": [
    "### Q. Detokenize and convert to document term matrices"
   ]
  },
  {
   "cell_type": "code",
   "execution_count": 32,
   "metadata": {
    "id": "JwhJ1pVBuvmo"
   },
   "outputs": [],
   "source": [
    "#Merge Three text column into one column and detokenize\n",
    "\n",
    "from nltk.tokenize.treebank import TreebankWordDetokenizer\n",
    "from sklearn.feature_extraction.text import CountVectorizer\n",
    "\n",
    "text_train = df_train['text'].apply(TreebankWordDetokenizer().detokenize) #Todo: Detokenize your tokenized text data\n",
    "countvec_train = CountVectorizer(min_df=0.015)\n",
    "sparse_dtm_train = countvec_train.fit_transform(text_train)\n",
    "#Todo: Fit and Transform your Countvectorizer and return sparse dtm."
   ]
  },
  {
   "cell_type": "code",
   "execution_count": 33,
   "metadata": {
    "id": "VoO-e-00uvmo"
   },
   "outputs": [],
   "source": [
    "#Todo: Do same on the test set.\n",
    "text_test = df_test['text'].apply(TreebankWordDetokenizer().detokenize)\n",
    "sparse_dtm_test = countvec_train.transform(text_test)"
   ]
  },
  {
   "cell_type": "code",
   "execution_count": 35,
   "metadata": {
    "colab": {
     "base_uri": "https://localhost:8080/"
    },
    "executionInfo": {
     "elapsed": 340,
     "status": "ok",
     "timestamp": 1668128857596,
     "user": {
      "displayName": "Hyungki Im",
      "userId": "11059091126270115149"
     },
     "user_tz": 480
    },
    "id": "hiK01v4luvmp",
    "outputId": "f6521cdc-fd1a-446f-9a7c-eb03df04a5f2"
   },
   "outputs": [],
   "source": [
    "#Convert the sprase dtm to pandas DataFrame.\n",
    "dtm_train = pd.DataFrame(sparse_dtm_train.toarray(), columns = countvec_train.get_feature_names(), index=df_train.index)\n",
    "\n",
    "dtm_test = pd.DataFrame(sparse_dtm_test.toarray(), columns= countvec_train.get_feature_names(),index=df_test.index)"
   ]
  },
  {
   "cell_type": "markdown",
   "metadata": {
    "id": "mZVDS6druvmq"
   },
   "source": [
    "### Q. Change dependent variable to binary variable"
   ]
  },
  {
   "cell_type": "code",
   "execution_count": 36,
   "metadata": {
    "id": "DSQu_SPquvmq"
   },
   "outputs": [],
   "source": [
    "#Change 'Score' to a binary variable, which indicates whether the question is good or not.\n",
    "y_train = (df_train[\"Score\"]>=1).astype(int)\n",
    "y_test = (df_test[\"Score\"]>=1).astype(int)"
   ]
  },
  {
   "cell_type": "code",
   "execution_count": 37,
   "metadata": {
    "id": "kWhfmKlYuvmr"
   },
   "outputs": [],
   "source": [
    "#Add y_train and y_test to your data frame if it is needed. Drop unnecessary columns\n",
    "df_train['GoodQ'] = y_train\n",
    "df_test['GoodQ'] = y_test\n",
    "df_train.drop(columns = [\"Score\", \"Id\"], inplace = True)\n",
    "df_test.drop(columns = [\"Score\", \"Id\"], inplace = True)"
   ]
  },
  {
   "cell_type": "markdown",
   "metadata": {
    "id": "MiYas_A6JcS1"
   },
   "source": [
    "## Let's check our DataFrame\n"
   ]
  },
  {
   "cell_type": "code",
   "execution_count": 38,
   "metadata": {
    "id": "WeTgM0ZMJqbI"
   },
   "outputs": [
    {
     "data": {
      "text/html": [
       "<div>\n",
       "<style scoped>\n",
       "    .dataframe tbody tr th:only-of-type {\n",
       "        vertical-align: middle;\n",
       "    }\n",
       "\n",
       "    .dataframe tbody tr th {\n",
       "        vertical-align: top;\n",
       "    }\n",
       "\n",
       "    .dataframe thead th {\n",
       "        text-align: right;\n",
       "    }\n",
       "</style>\n",
       "<table border=\"1\" class=\"dataframe\">\n",
       "  <thead>\n",
       "    <tr style=\"text-align: right;\">\n",
       "      <th></th>\n",
       "      <th>Body</th>\n",
       "      <th>Title</th>\n",
       "      <th>Tags</th>\n",
       "      <th>text</th>\n",
       "      <th>GoodQ</th>\n",
       "    </tr>\n",
       "  </thead>\n",
       "  <tbody>\n",
       "    <tr>\n",
       "      <th>0</th>\n",
       "      <td>[im_body, master_body, student_body, eec_body,...</td>\n",
       "      <td>[pytorch_title, tutori_title, dqn_title, defin...</td>\n",
       "      <td>[machinelearn_tags, reinforcementlearn_tags, q...</td>\n",
       "      <td>[im_body, master_body, student_body, eec_body,...</td>\n",
       "      <td>1</td>\n",
       "    </tr>\n",
       "    <tr>\n",
       "      <th>1</th>\n",
       "      <td>[know_body, good_body, question_body, found_bo...</td>\n",
       "      <td>[random_title, walk_title, memori_title]</td>\n",
       "      <td>[probabl_tags, lawoflargenumb_tags]</td>\n",
       "      <td>[know_body, good_body, question_body, found_bo...</td>\n",
       "      <td>1</td>\n",
       "    </tr>\n",
       "    <tr>\n",
       "      <th>2</th>\n",
       "      <td>[time_body, repeat_body, fold_body, crossvalid...</td>\n",
       "      <td>[statist_title, report_title, repeat_title, cr...</td>\n",
       "      <td>[crossvalid_tags]</td>\n",
       "      <td>[time_body, repeat_body, fold_body, crossvalid...</td>\n",
       "      <td>1</td>\n",
       "    </tr>\n",
       "    <tr>\n",
       "      <th>3</th>\n",
       "      <td>[dataset_body, mm_body, record_body, around_bo...</td>\n",
       "      <td>[binari_title, classif_title, imbalanc_title, ...</td>\n",
       "      <td>[unbalancedclass_tags, calibr_tags]</td>\n",
       "      <td>[dataset_body, mm_body, record_body, around_bo...</td>\n",
       "      <td>0</td>\n",
       "    </tr>\n",
       "    <tr>\n",
       "      <th>4</th>\n",
       "      <td>[want_body, run_body, regress_body, one_body, ...</td>\n",
       "      <td>[best_title, summar_title, likert_title, data_...</td>\n",
       "      <td>[multipleregress_tags, missingdata_tags, liker...</td>\n",
       "      <td>[want_body, run_body, regress_body, one_body, ...</td>\n",
       "      <td>1</td>\n",
       "    </tr>\n",
       "  </tbody>\n",
       "</table>\n",
       "</div>"
      ],
      "text/plain": [
       "                                                Body  \\\n",
       "0  [im_body, master_body, student_body, eec_body,...   \n",
       "1  [know_body, good_body, question_body, found_bo...   \n",
       "2  [time_body, repeat_body, fold_body, crossvalid...   \n",
       "3  [dataset_body, mm_body, record_body, around_bo...   \n",
       "4  [want_body, run_body, regress_body, one_body, ...   \n",
       "\n",
       "                                               Title  \\\n",
       "0  [pytorch_title, tutori_title, dqn_title, defin...   \n",
       "1           [random_title, walk_title, memori_title]   \n",
       "2  [statist_title, report_title, repeat_title, cr...   \n",
       "3  [binari_title, classif_title, imbalanc_title, ...   \n",
       "4  [best_title, summar_title, likert_title, data_...   \n",
       "\n",
       "                                                Tags  \\\n",
       "0  [machinelearn_tags, reinforcementlearn_tags, q...   \n",
       "1                [probabl_tags, lawoflargenumb_tags]   \n",
       "2                                  [crossvalid_tags]   \n",
       "3                [unbalancedclass_tags, calibr_tags]   \n",
       "4  [multipleregress_tags, missingdata_tags, liker...   \n",
       "\n",
       "                                                text  GoodQ  \n",
       "0  [im_body, master_body, student_body, eec_body,...      1  \n",
       "1  [know_body, good_body, question_body, found_bo...      1  \n",
       "2  [time_body, repeat_body, fold_body, crossvalid...      1  \n",
       "3  [dataset_body, mm_body, record_body, around_bo...      0  \n",
       "4  [want_body, run_body, regress_body, one_body, ...      1  "
      ]
     },
     "execution_count": 38,
     "metadata": {},
     "output_type": "execute_result"
    }
   ],
   "source": [
    "df_train.head(5)"
   ]
  },
  {
   "cell_type": "markdown",
   "metadata": {
    "id": "AVPT48NRuvms"
   },
   "source": [
    "## (b) Please read the instruction carefully in the pdf."
   ]
  },
  {
   "cell_type": "code",
   "execution_count": 39,
   "metadata": {
    "id": "3yD6xH8PzyoZ"
   },
   "outputs": [],
   "source": [
    "## I'll create the following models: logistic reg, decision trees, Random Forest and LDA.\n"
   ]
  },
  {
   "cell_type": "code",
   "execution_count": 40,
   "metadata": {},
   "outputs": [
    {
     "name": "stderr",
     "output_type": "stream",
     "text": [
      "/Users/divsaksena/opt/anaconda3/lib/python3.8/site-packages/statsmodels/tsa/base/tsa_model.py:7: FutureWarning: pandas.Int64Index is deprecated and will be removed from pandas in a future version. Use pandas.Index with the appropriate dtype instead.\n",
      "  from pandas import (to_datetime, Int64Index, DatetimeIndex, Period,\n",
      "/Users/divsaksena/opt/anaconda3/lib/python3.8/site-packages/statsmodels/tsa/base/tsa_model.py:7: FutureWarning: pandas.Float64Index is deprecated and will be removed from pandas in a future version. Use pandas.Index with the appropriate dtype instead.\n",
      "  from pandas import (to_datetime, Int64Index, DatetimeIndex, Period,\n"
     ]
    },
    {
     "name": "stdout",
     "output_type": "stream",
     "text": [
      "Optimization terminated successfully.\n",
      "         Current function value: 0.646243\n",
      "         Iterations 7\n"
     ]
    }
   ],
   "source": [
    "##Log Reg\n",
    "import statsmodels.api as sm\n",
    "logreg= sm.Logit(y_train, dtm_train).fit()"
   ]
  },
  {
   "cell_type": "code",
   "execution_count": 46,
   "metadata": {},
   "outputs": [],
   "source": [
    "## Decision tree \n",
    "\n",
    "from sklearn.tree import DecisionTreeClassifier\n",
    "from sklearn.model_selection import GridSearchCV\n",
    "\n",
    "gvals = {\"ccp_alpha\": np.linspace(0,0.01,10)}\n",
    "dtree = DecisionTreeClassifier(random_state =88)\n",
    "tree_cv= GridSearchCV(dtree, param_grid= gvals, cv=10).fit(dtm_train, y_train)"
   ]
  },
  {
   "cell_type": "code",
   "execution_count": 49,
   "metadata": {},
   "outputs": [],
   "source": [
    "ccpalpha = tree_cv.cv_results_['param_ccp_alpha'].data\n",
    "acc_scores= tree_cv.cv_results_[\"mean_test_score\"]\n"
   ]
  },
  {
   "cell_type": "code",
   "execution_count": 52,
   "metadata": {},
   "outputs": [
    {
     "data": {
      "image/png": "[encoded data removed]",
      "text/plain": [
       "<Figure size 576x576 with 1 Axes>"
      ]
     },
     "metadata": {
      "needs_background": "light"
     },
     "output_type": "display_data"
    },
    {
     "name": "stdout",
     "output_type": "stream",
     "text": [
      "Best CP value {'ccp_alpha': 0.0011111111111111111}\n"
     ]
    }
   ],
   "source": [
    "plt.figure(figsize=(8,8))\n",
    "plt.xlabel('ccp_alpha', fontsize=14)\n",
    "plt.ylabel('CV Acc', fontsize= 14)\n",
    "plt.scatter(ccpalpha, acc_scores, s=2)\n",
    "plt.plot(ccpalpha, acc_scores, lw=3)\n",
    "plt.grid(True, which='both')\n",
    "plt.show()\n",
    "\n",
    "print('Best CP value', tree_cv.best_params_)"
   ]
  },
  {
   "cell_type": "code",
   "execution_count": 53,
   "metadata": {},
   "outputs": [
    {
     "name": "stdout",
     "output_type": "stream",
     "text": [
      "Time: 909.12 s\n"
     ]
    }
   ],
   "source": [
    "## Random Forest\n",
    "\n",
    "from sklearn.ensemble import RandomForestClassifier\n",
    "import time \n",
    "\n",
    "gridvals={'max_features': np.linspace(20, 40, 5, dtype='int32'),\n",
    "         \"min_samples_leaf\": [5],\n",
    "         \"n_estimators\":[300],\n",
    "         \"random_state\":[88]}\n",
    "\n",
    "tic=time.time()\n",
    "\n",
    "randomforest=RandomForestClassifier()\n",
    "randomforestcv= GridSearchCV(randomforest, param_grid=gridvals, cv=5)\n",
    "randomforestcv.fit(dtm_train, y_train)\n",
    "toc=time.time()\n",
    "print(\"Time:\", round(toc-tic,2),\"s\")"
   ]
  },
  {
   "cell_type": "code",
   "execution_count": 54,
   "metadata": {},
   "outputs": [
    {
     "data": {
      "text/plain": [
       "LinearDiscriminantAnalysis()"
      ]
     },
     "execution_count": 54,
     "metadata": {},
     "output_type": "execute_result"
    }
   ],
   "source": [
    "## LDA\n",
    "\n",
    "from sklearn.discriminant_analysis import LinearDiscriminantAnalysis\n",
    "lda = LinearDiscriminantAnalysis()\n",
    "lda.fit(dtm_train, y_train)"
   ]
  },
  {
   "cell_type": "code",
   "execution_count": 58,
   "metadata": {},
   "outputs": [
    {
     "name": "stdout",
     "output_type": "stream",
     "text": [
      "0    9780\n",
      "1    9467\n",
      "dtype: int64\n"
     ]
    }
   ],
   "source": [
    "# Creating baseline model now\n",
    "\n",
    "from sklearn.metrics import confusion_matrix\n",
    "default_f= np.sum(y_train==0)\n",
    "default_t= np.sum(y_train==1)\n",
    "print(pd.Series({'0':default_f, '1':default_t}))"
   ]
  },
  {
   "cell_type": "code",
   "execution_count": 66,
   "metadata": {},
   "outputs": [],
   "source": [
    "baseline_acc= default_f/(default_f+default_t)\n",
    "baseline_TPR= 0\n",
    "baseline_FPR=0\n",
    "baseline_PRE=0"
   ]
  },
  {
   "cell_type": "code",
   "execution_count": 60,
   "metadata": {},
   "outputs": [
    {
     "name": "stdout",
     "output_type": "stream",
     "text": [
      "Confusion Matrix: \n",
      " [[2433 1697]\n",
      " [1881 2238]]\n"
     ]
    }
   ],
   "source": [
    "## Gatherinh statistics from each model for comparison\n",
    "\n",
    "#Log reg\n",
    "\n",
    "log_prob= logreg.predict(dtm_test)\n",
    "log_pred= pd.Series([1 if p>0.5 else 0 for p in log_prob], index=log_prob.index)\n",
    "\n",
    "cm=confusion_matrix(y_test, log_pred)\n",
    "log_acc= (cm.ravel()[0]+cm.ravel()[3])/sum(cm.ravel())\n",
    "log_TPR = cm.ravel()[3]/(cm.ravel()[2]+cm.ravel()[3])\n",
    "log_FPR= cm.ravel()[1]/(cm.ravel()[0]+cm.ravel()[1])\n",
    "log_PRE = cm.ravel()[3]/(cm.ravel()[1]+cm.ravel()[3])\n",
    "print(\"Confusion Matrix: \\n\", cm)"
   ]
  },
  {
   "cell_type": "code",
   "execution_count": 61,
   "metadata": {},
   "outputs": [
    {
     "name": "stdout",
     "output_type": "stream",
     "text": [
      "Confusion matrix: \n",
      " [[3221  909]\n",
      " [2870 1249]]\n"
     ]
    }
   ],
   "source": [
    "#Decision tree \n",
    "\n",
    "dtc_pred= tree_cv.best_estimator_.predict(dtm_test)\n",
    "cm1= confusion_matrix(y_test, dtc_pred)\n",
    "print(\"Confusion matrix: \\n\", cm1)\n",
    "\n",
    "dtc_acc= (cm1.ravel()[0]+cm1.ravel()[3])/sum(cm1.ravel())\n",
    "dtc_TPR = cm1.ravel()[3]/(cm1.ravel()[2]+cm1.ravel()[3])\n",
    "dtc_FPR= cm1.ravel()[1]/(cm1.ravel()[0]+cm1.ravel()[1])\n",
    "dtc_PRE = cm1.ravel()[3]/(cm1.ravel()[1]+cm1.ravel()[3])"
   ]
  },
  {
   "cell_type": "code",
   "execution_count": 62,
   "metadata": {},
   "outputs": [
    {
     "name": "stdout",
     "output_type": "stream",
     "text": [
      "Confusion Matrix: \n",
      " [[2564 1566]\n",
      " [2018 2101]]\n"
     ]
    }
   ],
   "source": [
    "# LDA stats\n",
    "\n",
    "y_pred = lda.predict(dtm_test)\n",
    "cm2 = confusion_matrix(y_test, y_pred)\n",
    "print(\"Confusion Matrix: \\n\", cm2)\n",
    "\n",
    "lda_acc= (cm2.ravel()[0]+cm2.ravel()[3])/sum(cm2.ravel())\n",
    "lda_TPR = cm2.ravel()[3]/(cm2.ravel()[2]+cm2.ravel()[3])\n",
    "lda_FPR= cm2.ravel()[1]/(cm2.ravel()[0]+cm2.ravel()[1])\n",
    "lda_PRE = cm2.ravel()[3]/(cm2.ravel()[1]+cm2.ravel()[3])"
   ]
  },
  {
   "cell_type": "code",
   "execution_count": 64,
   "metadata": {},
   "outputs": [
    {
     "name": "stdout",
     "output_type": "stream",
     "text": [
      "Confusion matrix: \n",
      " [[2563 1567]\n",
      " [1929 2190]]\n"
     ]
    }
   ],
   "source": [
    "# Random forest\n",
    "\n",
    "y_pred_rf= randomforestcv.best_estimator_.predict(dtm_test)\n",
    "cm3= confusion_matrix(y_test, y_pred_rf)\n",
    "\n",
    "print(\"Confusion matrix: \\n\", cm3)\n",
    "rf_acc= (cm3.ravel()[0]+cm3.ravel()[3])/sum(cm3.ravel())\n",
    "rf_TPR = cm3.ravel()[3]/(cm3.ravel()[2]+cm3.ravel()[3])\n",
    "rf_FPR= cm3.ravel()[1]/(cm3.ravel()[0]+cm3.ravel()[1])\n",
    "rf_PRE = cm3.ravel()[3]/(cm3.ravel()[1]+cm3.ravel()[3])"
   ]
  },
  {
   "cell_type": "code",
   "execution_count": 68,
   "metadata": {
    "id": "-O3EsbQGU0uX"
   },
   "outputs": [
    {
     "data": {
      "text/html": [
       "<div>\n",
       "<style scoped>\n",
       "    .dataframe tbody tr th:only-of-type {\n",
       "        vertical-align: middle;\n",
       "    }\n",
       "\n",
       "    .dataframe tbody tr th {\n",
       "        vertical-align: top;\n",
       "    }\n",
       "\n",
       "    .dataframe thead th {\n",
       "        text-align: right;\n",
       "    }\n",
       "</style>\n",
       "<table border=\"1\" class=\"dataframe\">\n",
       "  <thead>\n",
       "    <tr style=\"text-align: right;\">\n",
       "      <th></th>\n",
       "      <th>Accuracy</th>\n",
       "      <th>TPR</th>\n",
       "      <th>FPR</th>\n",
       "      <th>PRE</th>\n",
       "    </tr>\n",
       "  </thead>\n",
       "  <tbody>\n",
       "    <tr>\n",
       "      <th>Baseline</th>\n",
       "      <td>0.508131</td>\n",
       "      <td>0.000000</td>\n",
       "      <td>0.000000</td>\n",
       "      <td>0.000000</td>\n",
       "    </tr>\n",
       "    <tr>\n",
       "      <th>Logistic Regression</th>\n",
       "      <td>0.566250</td>\n",
       "      <td>0.543336</td>\n",
       "      <td>0.410896</td>\n",
       "      <td>0.568742</td>\n",
       "    </tr>\n",
       "    <tr>\n",
       "      <th>Decision Tree Classifier</th>\n",
       "      <td>0.541884</td>\n",
       "      <td>0.303229</td>\n",
       "      <td>0.220097</td>\n",
       "      <td>0.578777</td>\n",
       "    </tr>\n",
       "    <tr>\n",
       "      <th>Random Forest with CV</th>\n",
       "      <td>0.576191</td>\n",
       "      <td>0.531682</td>\n",
       "      <td>0.379419</td>\n",
       "      <td>0.582912</td>\n",
       "    </tr>\n",
       "    <tr>\n",
       "      <th>Linear Discriminant Analysis</th>\n",
       "      <td>0.565523</td>\n",
       "      <td>0.510075</td>\n",
       "      <td>0.379177</td>\n",
       "      <td>0.572948</td>\n",
       "    </tr>\n",
       "  </tbody>\n",
       "</table>\n",
       "</div>"
      ],
      "text/plain": [
       "                              Accuracy       TPR       FPR       PRE\n",
       "Baseline                      0.508131  0.000000  0.000000  0.000000\n",
       "Logistic Regression           0.566250  0.543336  0.410896  0.568742\n",
       "Decision Tree Classifier      0.541884  0.303229  0.220097  0.578777\n",
       "Random Forest with CV         0.576191  0.531682  0.379419  0.582912\n",
       "Linear Discriminant Analysis  0.565523  0.510075  0.379177  0.572948"
      ]
     },
     "execution_count": 68,
     "metadata": {},
     "output_type": "execute_result"
    }
   ],
   "source": [
    "#Create Comparison Table\n",
    "#These lines are provided for you to help construct a comparison table.\n",
    "#It is not requred to follow this format. + You need to find ACC, TPR, FPR, PRE for each model that you choose.\n",
    "comparison_data = {'Baseline':[baseline_acc,baseline_TPR,baseline_FPR, baseline_PRE],\n",
    "                   'Logistic Regression':[log_acc,log_TPR,log_FPR, log_PRE],\n",
    "                   'Decision Tree Classifier':[dtc_acc,dtc_TPR,dtc_FPR,dtc_PRE],\n",
    "                   'Random Forest with CV':[rf_acc,rf_TPR, rf_FPR,rf_PRE],\n",
    "                  'Linear Discriminant Analysis':[lda_acc,lda_TPR, lda_FPR,lda_PRE]}\n",
    "\n",
    "comparison_table = pd.DataFrame(data=comparison_data, index=['Accuracy', 'TPR', 'FPR','PRE']).transpose()\n",
    "#comparison_table.style.set_properties(**{'font-size': '12pt',}).set_table_styles([{'selector': 'th', 'props': [('font-size', '10pt')]}])\n",
    "comparison_table"
   ]
  },
  {
   "cell_type": "code",
   "execution_count": 69,
   "metadata": {},
   "outputs": [],
   "source": [
    "# Bootstrap\n",
    "def bootstrap_val(test_data, test_label, model, sample=500, random_state=88):\n",
    "    tic=time.time()\n",
    "    n= sample\n",
    "    output=np.zeros([n, 4])\n",
    "    output[:]=np.nan\n",
    "    for bsiter in range(n):\n",
    "        bootstrap_ind= np.random.choice(test_data.index, len(test_data.index),\n",
    "                        replace=True)\n",
    "        bootstrap_data= test_data.loc[bootstrap_ind]\n",
    "        bootstrap_label = test_label.loc[bootstrap_ind]\n",
    "        bootstrap_prob= model.predict(bootstrap_data)\n",
    "        bootstrap_pred= pd.Series([1 if p>0.5 else 0 for p in bootstrap_prob], index= bootstrap_prob.index)\n",
    "        cm= confusion_matrix(test_label, bootstrap_pred)\n",
    "        log_acc= (cm.ravel()[0]+cm.ravel()[3])/sum(cm.ravel())\n",
    "        log_TPR = cm.ravel()[3]/(cm.ravel()[2]+cm.ravel()[3])\n",
    "        log_FPR= cm.ravel()[1]/(cm.ravel()[0]+cm.ravel()[1])\n",
    "        log_PRE = cm.ravel()[3]/(cm.ravel()[1]+cm.ravel()[3])\n",
    "        output[bsiter, :]=np.array([log_acc, log_TPR, log_FPR, log_PRE])\n",
    "        \n",
    "    df_output=pd.DataFrame(output)\n",
    "    return df_output\n",
    "        "
   ]
  },
  {
   "cell_type": "code",
   "execution_count": 72,
   "metadata": {},
   "outputs": [],
   "source": [
    "bs = bootstrap_val(dtm_test, y_test, logreg, sample=1000)"
   ]
  },
  {
   "cell_type": "code",
   "execution_count": 73,
   "metadata": {},
   "outputs": [],
   "source": [
    "# in order to better our analysis we can look at the quartiles of different models performance for the required metrics\n",
    "# essentially we are creating confidence intervals\n",
    "\n",
    "ci_acc= np.quantile(bs.iloc[:,0], np.array([0.025, 0.0975]))\n",
    "ci_TPR= np.quantile(bs.iloc[:,1], np.array([0.025, 0.0975]))\n",
    "ci_FPR= np.quantile(bs.iloc[:,2], np.array([0.025, 0.0975]))\n",
    "ci_PRE= np.quantile(bs.iloc[:,3], np.array([0.025, 0.0975]))\n",
    "\n",
    "mean_acc=np.mean(bs.iloc[:,0])\n",
    "std_acc=np.std(bs.iloc[:,0])\n",
    "mean_TPR=np.mean(bs.iloc[:,1])\n",
    "std_TPR=np.std(bs.iloc[:,1])\n",
    "mean_FPR=np.mean(bs.iloc[:,2])\n",
    "std_FPR=np.std(bs.iloc[:,2])\n",
    "mean_PRE=np.mean(bs.iloc[:,3])\n",
    "std_PRE=np.std(bs.iloc[:,3])\n",
    "\n"
   ]
  },
  {
   "cell_type": "code",
   "execution_count": 75,
   "metadata": {},
   "outputs": [
    {
     "data": {
      "text/html": [
       "<div>\n",
       "<style scoped>\n",
       "    .dataframe tbody tr th:only-of-type {\n",
       "        vertical-align: middle;\n",
       "    }\n",
       "\n",
       "    .dataframe tbody tr th {\n",
       "        vertical-align: top;\n",
       "    }\n",
       "\n",
       "    .dataframe thead th {\n",
       "        text-align: right;\n",
       "    }\n",
       "</style>\n",
       "<table border=\"1\" class=\"dataframe\">\n",
       "  <thead>\n",
       "    <tr style=\"text-align: right;\">\n",
       "      <th></th>\n",
       "      <th>0.025 Qtl</th>\n",
       "      <th>0.975 Qtl</th>\n",
       "      <th>Mean</th>\n",
       "      <th>SD</th>\n",
       "    </tr>\n",
       "  </thead>\n",
       "  <tbody>\n",
       "    <tr>\n",
       "      <th>Acc</th>\n",
       "      <td>0.488905</td>\n",
       "      <td>0.493078</td>\n",
       "      <td>0.499876</td>\n",
       "      <td>0.005530</td>\n",
       "    </tr>\n",
       "    <tr>\n",
       "      <th>TPR</th>\n",
       "      <td>0.462005</td>\n",
       "      <td>0.467346</td>\n",
       "      <td>0.477021</td>\n",
       "      <td>0.007770</td>\n",
       "    </tr>\n",
       "    <tr>\n",
       "      <th>FPR</th>\n",
       "      <td>0.462222</td>\n",
       "      <td>0.467410</td>\n",
       "      <td>0.477331</td>\n",
       "      <td>0.007743</td>\n",
       "    </tr>\n",
       "    <tr>\n",
       "      <th>PRE</th>\n",
       "      <td>0.487716</td>\n",
       "      <td>0.492060</td>\n",
       "      <td>0.499171</td>\n",
       "      <td>0.005795</td>\n",
       "    </tr>\n",
       "  </tbody>\n",
       "</table>\n",
       "</div>"
      ],
      "text/plain": [
       "     0.025 Qtl  0.975 Qtl      Mean        SD\n",
       "Acc   0.488905   0.493078  0.499876  0.005530\n",
       "TPR   0.462005   0.467346  0.477021  0.007770\n",
       "FPR   0.462222   0.467410  0.477331  0.007743\n",
       "PRE   0.487716   0.492060  0.499171  0.005795"
      ]
     },
     "execution_count": 75,
     "metadata": {},
     "output_type": "execute_result"
    }
   ],
   "source": [
    "bs_data= {'Acc':[ci_acc[0],ci_acc[1], mean_acc, std_acc], \n",
    "         'TPR': [ci_TPR[0], ci_TPR[1], mean_TPR, std_TPR],\n",
    "         'FPR': [ci_FPR[0], ci_FPR[1], mean_FPR, std_FPR],\n",
    "         'PRE': [ci_PRE[0], ci_PRE[1], mean_PRE, std_PRE]}\n",
    "bs_table= pd.DataFrame(data=bs_data, index=['0.025 Qtl', '0.975 Qtl', 'Mean', 'SD']).transpose()\n",
    "bs_table"
   ]
  },
  {
   "cell_type": "markdown",
   "metadata": {
    "id": "Mjsc7lf6zOms"
   },
   "source": [
    "\n",
    "## Report details of your training procedures and final comparisons on the test set in this cell. Use your best judgment to choose a final model and explain your choice."
   ]
  },
  {
   "cell_type": "markdown",
   "metadata": {},
   "source": [
    "I chose to work with LDA, logistic regression, random forest, and decision tree classifiers. In both LDA and Logreg we used the fact whether a question was considered good or not as our dependent variable by binary encoding and used the text as independent variables. In the decision tree we used 10-fold cross-val. In the random forest we used 10-fold cross-val too along with grid search across the required parameters. By comparison, it appears the logistic regression has the highest accuracy and it is balanced by a good TPR. Similarly, RF also has high accuracy and high TPR. "
   ]
  },
  {
   "cell_type": "markdown",
   "metadata": {
    "id": "XLa-KDajuvmz"
   },
   "source": [
    "## Report Bootstrap Analysis in this cell"
   ]
  },
  {
   "cell_type": "markdown",
   "metadata": {
    "id": "JrCM_96Quvm2"
   },
   "source": [
    "### (c)\n",
    "I think a good metric for the models for this question would be the use of precision. This is because we need to ensure the highest ranked question is actually useful. I used the results from the comparison table. In terms of the precision score, I noticed that RF with CV has the highest value. But I am concerned about time required for retraining the model. I also see that similar to the previous question the logistic regression model has a high precision score along with good accuracy and TPR. In the following cell I will look at the precision recall score from the sklearn package. \n",
    "\n",
    "Additionally by looking at the baseline model we see that about 50% of the questions in our test set are \"good questions.\" Thus, if we are given say 20 questions, we will have on avg 10 good questions and we want atleast 1 to be a positive prediction --> We know that the TPR should be atleast 1/10.  In our problem, since there are 15 questions on a page, we want atleast 1/7.5 to be a positive prediction. \n"
   ]
  },
  {
   "cell_type": "code",
   "execution_count": 77,
   "metadata": {
    "id": "uh2mvNrrTFBU"
   },
   "outputs": [
    {
     "data": {
      "image/png": "[encoded data removed]",
      "text/plain": [
       "<Figure size 576x432 with 1 Axes>"
      ]
     },
     "metadata": {
      "needs_background": "light"
     },
     "output_type": "display_data"
    }
   ],
   "source": [
    "from sklearn.metrics import precision_recall_curve \n",
    "from sklearn.metrics import auc\n",
    "\n",
    "prec, recall,_= precision_recall_curve(y_test, log_prob)\n",
    "\n",
    "plt.figure(figsize=(8,6))\n",
    "plt.title('Precision-Recall')\n",
    "plt.xlabel('recall')\n",
    "plt.ylabel('precision')\n",
    "plt.plot(recall, prec, lw=4)\n",
    "plt.show()"
   ]
  },
  {
   "cell_type": "markdown",
   "metadata": {},
   "source": [
    "Continuing from the previous answer box, we see that we need a method that performs better than the current precision on Stack Exchange (which has a value pf 0.5). Thus, let's say we want a value that makes TPR >= 0.15 so that there is some buffer (this is a valye greater than 1/7.5 so that we have a good buffer)."
   ]
  },
  {
   "cell_type": "code",
   "execution_count": 84,
   "metadata": {},
   "outputs": [
    {
     "data": {
      "text/plain": [
       "(array([   0,    1,    2, ..., 7306, 7307, 7308]),)"
      ]
     },
     "execution_count": 84,
     "metadata": {},
     "output_type": "execute_result"
    }
   ],
   "source": [
    "goodvals= recall[1:] >= 0.15\n",
    "np.nonzero(goodvals)"
   ]
  },
  {
   "cell_type": "code",
   "execution_count": 85,
   "metadata": {},
   "outputs": [
    {
     "name": "stdout",
     "output_type": "stream",
     "text": [
      "0.6720648785389117\n"
     ]
    }
   ],
   "source": [
    "p= _[7200]\n",
    "print(p)"
   ]
  },
  {
   "cell_type": "markdown",
   "metadata": {},
   "source": [
    "Thus, to improve the model we would use the above value as a threshold for the logreg model and retrain it and print out the confusion matrix. This should, in theory, improve our model. Let's see the results. \n"
   ]
  },
  {
   "cell_type": "code",
   "execution_count": 88,
   "metadata": {},
   "outputs": [
    {
     "name": "stdout",
     "output_type": "stream",
     "text": [
      "Confusion Matrix: \n",
      " [[3774  356]\n",
      " [3431  688]]\n",
      "0.5409140501879016 0.1670308327263899 0.08619854721549637 0.6590038314176245\n"
     ]
    }
   ],
   "source": [
    "#Log reg retrained\n",
    "\n",
    "log_pred= pd.Series([1 if x>p else 0 for x in log_prob], index=log_prob.index)\n",
    "\n",
    "cm=confusion_matrix(y_test, log_pred)\n",
    "log_acc= (cm.ravel()[0]+cm.ravel()[3])/sum(cm.ravel())\n",
    "log_TPR = cm.ravel()[3]/(cm.ravel()[2]+cm.ravel()[3])\n",
    "log_FPR= cm.ravel()[1]/(cm.ravel()[0]+cm.ravel()[1])\n",
    "log_PRE = cm.ravel()[3]/(cm.ravel()[1]+cm.ravel()[3])\n",
    "print(\"Confusion Matrix: \\n\", cm)\n",
    "print(log_acc, \n",
    "      log_TPR, \n",
    "      log_FPR, \n",
    "      log_PRE)"
   ]
  },
  {
   "cell_type": "markdown",
   "metadata": {},
   "source": [
    "As we see from above, the results of our retraining helped. The precision has gone up to about 0.65 from 0.56 and the FPR has gone down to 0.086 from 0.41. Clearly, our model is better than the current method by Stack Exchange. "
   ]
  },
  {
   "cell_type": "code",
   "execution_count": null,
   "metadata": {},
   "outputs": [],
   "source": []
  }
 ],
 "metadata": {
  "colab": {
   "collapsed_sections": [],
   "provenance": [
    {
     "file_id": "1AHr2NIU61Oco-PfG10o3gAYXLrsyJ8Sv",
     "timestamp": 1668122684758
    }
   ]
  },
  "kernelspec": {
   "display_name": "Python 3",
   "language": "python",
   "name": "python3"
  },
  "language_info": {
   "codemirror_mode": {
    "name": "ipython",
    "version": 3
   },
   "file_extension": ".py",
   "mimetype": "text/x-python",
   "name": "python",
   "nbconvert_exporter": "python",
   "pygments_lexer": "ipython3",
   "version": "3.8.3"
  }
 },
 "nbformat": 4,
 "nbformat_minor": 1
}
